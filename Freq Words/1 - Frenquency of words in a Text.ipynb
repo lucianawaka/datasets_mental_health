{
 "cells": [
  {
   "cell_type": "markdown",
   "metadata": {},
   "source": [
    "### Class for find the frenquency of words in a Text"
   ]
  },
  {
   "cell_type": "code",
   "execution_count": 1,
   "metadata": {},
   "outputs": [],
   "source": [
    "class findInText():\n",
    "    \n",
    "    def __init__(self,text):\n",
    "        \"\"\" Remove the punctuation from the text. Punctuation(. ,  ! ?)\n",
    "            And make the text to lower case\"\"\"\n",
    "        self.fmtText = text.lower().replace('.','').replace(',','').replace('!','').replace('?','')\n",
    "    \n",
    "    def freqAll(self):\n",
    "        \"\"\" \n",
    "        Slit the text into a list of words \n",
    "        and Create a dictionary with the unique words in the text as keys\n",
    "        and the number of times they occur in the text as values \n",
    "        \n",
    "        \"\"\"\n",
    "        # Split text into words\n",
    "        wordList = self.fmtText.split(' ')\n",
    "        \n",
    "        # Create Dictionary\n",
    "        freqMap = {}\n",
    "        \n",
    "        for word in set(wordList):\n",
    "            freqMap[word] = wordList.count(word)\n",
    "        return freqMap\n",
    "    \n",
    "    def freqOf(self, word):\n",
    "        \"\"\"Return the number of occurrences of <word> in <fmtText>\"\"\"\n",
    "        freqDict = self.freqAll()\n",
    "        \n",
    "        if word in freqDict:\n",
    "            return freqDict[word]\n",
    "        else:\n",
    "            return 0\n",
    "        \n",
    "    def freqOfWord(self, word):\n",
    "        \"\"\"Return a Dictionary with the number of occurrences of <word> in <fmtText> and it's description\"\"\"\n",
    "        freqWord = {}\n",
    "        freqDict = self.freqAll()\n",
    "        \n",
    "        if word in freqDict:\n",
    "            freqWord[word] = freqDict[word]\n",
    "        \n",
    "        return freqWord\n",
    "            \n",
    "        "
   ]
  },
  {
   "cell_type": "markdown",
   "metadata": {},
   "source": [
    "### Words that can Signal you're in Depression\n",
    "<a href=\"https://www.psychologicalscience.org/news/the-words-that-can-signal-youre-depressed.html#:~:text=People%20who%20are%20depressed%20tend,black%2Dor%2Dwhite%20outlook.\">Words sign Depression - 10/07/2022</a><br />\n",
    "<a href=\"https://www.macmillandictionary.com/thesaurus-category/british/feeling-sad-or-unhappy\">Words and Phrases - 10/07/2022</a>"
   ]
  },
  {
   "cell_type": "code",
   "execution_count": 2,
   "metadata": {},
   "outputs": [],
   "source": [
    "List_of_words = ['sad','unhappy','gloomy','sombre','melancholy','sorrowful',\\\n",
    "                'subdued','bleak','wistful','homesick','always','must','completely']"
   ]
  },
  {
   "cell_type": "code",
   "execution_count": 3,
   "metadata": {},
   "outputs": [],
   "source": [
    "analysis_dep = findInText('I am feeling sad today. I don\\'t want to come out of the bed. I am feeling sleepy. And unhappy with my marriage.')"
   ]
  },
  {
   "cell_type": "code",
   "execution_count": 4,
   "metadata": {},
   "outputs": [
    {
     "data": {
      "text/plain": [
       "{'marriage': 1,\n",
       " 'unhappy': 1,\n",
       " 'the': 1,\n",
       " 'with': 1,\n",
       " 'feeling': 2,\n",
       " 'today': 1,\n",
       " 'sad': 1,\n",
       " \"don't\": 1,\n",
       " 'bed': 1,\n",
       " 'and': 1,\n",
       " 'to': 1,\n",
       " 'of': 1,\n",
       " 'want': 1,\n",
       " 'am': 2,\n",
       " 'out': 1,\n",
       " 'sleepy': 1,\n",
       " 'come': 1,\n",
       " 'i': 3,\n",
       " 'my': 1}"
      ]
     },
     "execution_count": 4,
     "metadata": {},
     "output_type": "execute_result"
    }
   ],
   "source": [
    "analysis_dep.freqAll()"
   ]
  },
  {
   "cell_type": "code",
   "execution_count": 6,
   "metadata": {},
   "outputs": [
    {
     "name": "stdout",
     "output_type": "stream",
     "text": [
      "1\n",
      "1\n",
      "0\n",
      "0\n",
      "0\n",
      "0\n",
      "0\n",
      "0\n",
      "0\n",
      "0\n",
      "0\n",
      "0\n",
      "0\n"
     ]
    }
   ],
   "source": [
    "for word in List_of_words:\n",
    "    print(analysis_dep.freqOf(word))\n",
    "    "
   ]
  },
  {
   "cell_type": "code",
   "execution_count": null,
   "metadata": {},
   "outputs": [],
   "source": []
  },
  {
   "cell_type": "code",
   "execution_count": null,
   "metadata": {},
   "outputs": [],
   "source": []
  }
 ],
 "metadata": {
  "kernelspec": {
   "display_name": "Python 3 (ipykernel)",
   "language": "python",
   "name": "python3"
  },
  "language_info": {
   "codemirror_mode": {
    "name": "ipython",
    "version": 3
   },
   "file_extension": ".py",
   "mimetype": "text/x-python",
   "name": "python",
   "nbconvert_exporter": "python",
   "pygments_lexer": "ipython3",
   "version": "3.9.12"
  }
 },
 "nbformat": 4,
 "nbformat_minor": 2
}
