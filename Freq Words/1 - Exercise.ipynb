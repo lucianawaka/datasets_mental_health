{
 "cells": [
  {
   "cell_type": "markdown",
   "metadata": {},
   "source": [
    "### 1 - Exercise - Find Frequency algoritm\n",
    "#### 21/07/2022"
   ]
  },
  {
   "cell_type": "code",
   "execution_count": 8,
   "metadata": {},
   "outputs": [],
   "source": [
    "class findText:\n",
    "    \n",
    "    def __init__(self, text):\n",
    "        \"\"\" Remove the punctuation from the text. Punctuation(. ,  ! ?)\n",
    "            And make the text to lower case\"\"\"\n",
    "        self.texto = text.replace(\".\",\"\").replace(\",\",\"\").replace(\"!\",\"\").replace(\"?\",\"\").lower()\n",
    "    \n",
    "    def freqAll(self):\n",
    "        \"\"\" \n",
    "        Slit the text into a list of words \n",
    "        and Create a dictionary with the unique words in the text as keys\n",
    "        and the number of times they occur in the text as values \n",
    "        \n",
    "        \"\"\"\n",
    "        list_words = self.texto.split(\" \")\n",
    "        \n",
    "        dict_words = {}\n",
    "        \n",
    "        for word in set(list_words):\n",
    "            dict_words[word] = list_words.count(word)\n",
    "        \n",
    "        return dict_words\n",
    "    \n",
    "    def freof(self, word):\n",
    "        \"\"\"\n",
    "        Return the number of occurrences of <word> in texto\n",
    "        \"\"\"\n",
    "        list_words=self.freqAll()\n",
    "        \n",
    "        if word in list_words:\n",
    "            return list_words[word]\n",
    "        else:\n",
    "            return 0\n",
    "    def freqofwords(self, word):\n",
    "        \"\"\"\n",
    "        Get a word and find inside the text if exist then\n",
    "        Return a dictionary with the word and quantity find in the text\n",
    "        \"\"\"\n",
    "        freqDict = {}\n",
    "        freqAll = self.freqAll()\n",
    "        \n",
    "        if word in freqAll:\n",
    "            freqDict[word]=freqAll[word]\n",
    "        \n",
    "        return freqDict"
   ]
  },
  {
   "cell_type": "code",
   "execution_count": 9,
   "metadata": {},
   "outputs": [],
   "source": [
    "text= \"Eu! Eu Sou a mosca que pousou na sua roupa.\""
   ]
  },
  {
   "cell_type": "code",
   "execution_count": 10,
   "metadata": {},
   "outputs": [],
   "source": [
    "find = findText(text)"
   ]
  },
  {
   "cell_type": "code",
   "execution_count": 11,
   "metadata": {},
   "outputs": [
    {
     "data": {
      "text/plain": [
       "'eu eu sou a mosca que pousou na sua roupa'"
      ]
     },
     "execution_count": 11,
     "metadata": {},
     "output_type": "execute_result"
    }
   ],
   "source": [
    "find.texto"
   ]
  },
  {
   "cell_type": "code",
   "execution_count": 12,
   "metadata": {},
   "outputs": [
    {
     "data": {
      "text/plain": [
       "{'a': 1,\n",
       " 'roupa': 1,\n",
       " 'sou': 1,\n",
       " 'mosca': 1,\n",
       " 'que': 1,\n",
       " 'sua': 1,\n",
       " 'pousou': 1,\n",
       " 'eu': 2,\n",
       " 'na': 1}"
      ]
     },
     "execution_count": 12,
     "metadata": {},
     "output_type": "execute_result"
    }
   ],
   "source": [
    "find.freqAll()"
   ]
  },
  {
   "cell_type": "code",
   "execution_count": 13,
   "metadata": {},
   "outputs": [
    {
     "data": {
      "text/plain": [
       "1"
      ]
     },
     "execution_count": 13,
     "metadata": {},
     "output_type": "execute_result"
    }
   ],
   "source": [
    "find.freof('sou')"
   ]
  },
  {
   "cell_type": "code",
   "execution_count": 19,
   "metadata": {},
   "outputs": [],
   "source": [
    "list_words = ['sou','a','mosca','a']"
   ]
  },
  {
   "cell_type": "code",
   "execution_count": 21,
   "metadata": {},
   "outputs": [
    {
     "name": "stdout",
     "output_type": "stream",
     "text": [
      "{'a': 1}\n",
      "{'sou': 1}\n",
      "{'mosca': 1}\n"
     ]
    }
   ],
   "source": [
    "for word in set(list_words):\n",
    "    print(find.freqofwords(word))"
   ]
  },
  {
   "cell_type": "code",
   "execution_count": null,
   "metadata": {},
   "outputs": [],
   "source": []
  }
 ],
 "metadata": {
  "kernelspec": {
   "display_name": "Python 3",
   "language": "python",
   "name": "python3"
  },
  "language_info": {
   "codemirror_mode": {
    "name": "ipython",
    "version": 3
   },
   "file_extension": ".py",
   "mimetype": "text/x-python",
   "name": "python",
   "nbconvert_exporter": "python",
   "pygments_lexer": "ipython3",
   "version": "3.7.3"
  }
 },
 "nbformat": 4,
 "nbformat_minor": 2
}
