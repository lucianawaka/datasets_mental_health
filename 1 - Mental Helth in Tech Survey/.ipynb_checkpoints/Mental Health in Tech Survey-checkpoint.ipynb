{
 "cells": [
  {
   "cell_type": "markdown",
   "metadata": {},
   "source": [
    "<p>Our Dataset is composed of mental health and frequency of mental health disorders in the tech workplace.</p>\n",
    "<h2>Question to responde:</h2>\n",
    "<h3>Taking treatment for a mental health condition?</h3>\n",
    "<p>1. What are the most influencing features?</p>\n",
    "<p>2. In this dataset is able to response if a person is talking a treatment or not?</p>\n",
    "<h4>The Dataset:</h4>\n",
    "<p>Size: 1259 rows e 27 features</p>\n",
    "<ul>\n",
    "    <li>Yes:50.595711</li>\n",
    "    <li>No:49.404289</li>\n",
    "</ul>\n",
    "<p> The model is going to be train and an API in going to be available to test new cases.</p>\n",
    "    \n"
   ]
  },
  {
   "cell_type": "markdown",
   "metadata": {},
   "source": [
    "## Data set Mental Health in TI\n",
    "\n",
    "<p>\"This dataset is from a 2014 survey that measures attitudes towards mental health and frequency of mental health disorders in the tech workplace.\"(From Kanggle)</p>\n",
    "<p> link: <a href=\"https://www.kaggle.com/datasets/osmi/mental-health-in-tech-survey?resource=download&select=survey.csv\">Data source Kanggle</a></p>\n",
    "<p>Version 2.0 - 12/10/2022</p>"
   ]
  },
  {
   "cell_type": "code",
   "execution_count": 1,
   "metadata": {},
   "outputs": [],
   "source": [
    "## imports\n",
    "import pandas as pd\n",
    "import numpy as np\n",
    "import matplotlib.pyplot as plt\n",
    "import seaborn as sns\n",
    "\n",
    "import warnings\n",
    "warnings.filterwarnings('ignore')"
   ]
  },
  {
   "cell_type": "markdown",
   "metadata": {},
   "source": [
    "## 1 Data Collection"
   ]
  },
  {
   "cell_type": "code",
   "execution_count": 2,
   "metadata": {},
   "outputs": [],
   "source": [
    "# Lendo arquivo\n",
    "df = pd.read_csv(\"data/survey.csv\")"
   ]
  },
  {
   "cell_type": "markdown",
   "metadata": {},
   "source": [
    "## 2 Data Understanding"
   ]
  },
  {
   "cell_type": "code",
   "execution_count": 3,
   "metadata": {},
   "outputs": [
    {
     "data": {
      "text/plain": [
       "(1259, 27)"
      ]
     },
     "execution_count": 3,
     "metadata": {},
     "output_type": "execute_result"
    }
   ],
   "source": [
    "df.shape"
   ]
  },
  {
   "cell_type": "code",
   "execution_count": 4,
   "metadata": {},
   "outputs": [
    {
     "data": {
      "text/html": [
       "<div>\n",
       "<style scoped>\n",
       "    .dataframe tbody tr th:only-of-type {\n",
       "        vertical-align: middle;\n",
       "    }\n",
       "\n",
       "    .dataframe tbody tr th {\n",
       "        vertical-align: top;\n",
       "    }\n",
       "\n",
       "    .dataframe thead th {\n",
       "        text-align: right;\n",
       "    }\n",
       "</style>\n",
       "<table border=\"1\" class=\"dataframe\">\n",
       "  <thead>\n",
       "    <tr style=\"text-align: right;\">\n",
       "      <th></th>\n",
       "      <th>Timestamp</th>\n",
       "      <th>Age</th>\n",
       "      <th>Gender</th>\n",
       "      <th>Country</th>\n",
       "      <th>state</th>\n",
       "      <th>self_employed</th>\n",
       "      <th>family_history</th>\n",
       "      <th>treatment</th>\n",
       "      <th>work_interfere</th>\n",
       "      <th>no_employees</th>\n",
       "      <th>...</th>\n",
       "      <th>leave</th>\n",
       "      <th>mental_health_consequence</th>\n",
       "      <th>phys_health_consequence</th>\n",
       "      <th>coworkers</th>\n",
       "      <th>supervisor</th>\n",
       "      <th>mental_health_interview</th>\n",
       "      <th>phys_health_interview</th>\n",
       "      <th>mental_vs_physical</th>\n",
       "      <th>obs_consequence</th>\n",
       "      <th>comments</th>\n",
       "    </tr>\n",
       "  </thead>\n",
       "  <tbody>\n",
       "    <tr>\n",
       "      <th>0</th>\n",
       "      <td>2014-08-27 11:29:31</td>\n",
       "      <td>37</td>\n",
       "      <td>Female</td>\n",
       "      <td>United States</td>\n",
       "      <td>IL</td>\n",
       "      <td>NaN</td>\n",
       "      <td>No</td>\n",
       "      <td>Yes</td>\n",
       "      <td>Often</td>\n",
       "      <td>6-25</td>\n",
       "      <td>...</td>\n",
       "      <td>Somewhat easy</td>\n",
       "      <td>No</td>\n",
       "      <td>No</td>\n",
       "      <td>Some of them</td>\n",
       "      <td>Yes</td>\n",
       "      <td>No</td>\n",
       "      <td>Maybe</td>\n",
       "      <td>Yes</td>\n",
       "      <td>No</td>\n",
       "      <td>NaN</td>\n",
       "    </tr>\n",
       "    <tr>\n",
       "      <th>1</th>\n",
       "      <td>2014-08-27 11:29:37</td>\n",
       "      <td>44</td>\n",
       "      <td>M</td>\n",
       "      <td>United States</td>\n",
       "      <td>IN</td>\n",
       "      <td>NaN</td>\n",
       "      <td>No</td>\n",
       "      <td>No</td>\n",
       "      <td>Rarely</td>\n",
       "      <td>More than 1000</td>\n",
       "      <td>...</td>\n",
       "      <td>Don't know</td>\n",
       "      <td>Maybe</td>\n",
       "      <td>No</td>\n",
       "      <td>No</td>\n",
       "      <td>No</td>\n",
       "      <td>No</td>\n",
       "      <td>No</td>\n",
       "      <td>Don't know</td>\n",
       "      <td>No</td>\n",
       "      <td>NaN</td>\n",
       "    </tr>\n",
       "    <tr>\n",
       "      <th>2</th>\n",
       "      <td>2014-08-27 11:29:44</td>\n",
       "      <td>32</td>\n",
       "      <td>Male</td>\n",
       "      <td>Canada</td>\n",
       "      <td>NaN</td>\n",
       "      <td>NaN</td>\n",
       "      <td>No</td>\n",
       "      <td>No</td>\n",
       "      <td>Rarely</td>\n",
       "      <td>6-25</td>\n",
       "      <td>...</td>\n",
       "      <td>Somewhat difficult</td>\n",
       "      <td>No</td>\n",
       "      <td>No</td>\n",
       "      <td>Yes</td>\n",
       "      <td>Yes</td>\n",
       "      <td>Yes</td>\n",
       "      <td>Yes</td>\n",
       "      <td>No</td>\n",
       "      <td>No</td>\n",
       "      <td>NaN</td>\n",
       "    </tr>\n",
       "    <tr>\n",
       "      <th>3</th>\n",
       "      <td>2014-08-27 11:29:46</td>\n",
       "      <td>31</td>\n",
       "      <td>Male</td>\n",
       "      <td>United Kingdom</td>\n",
       "      <td>NaN</td>\n",
       "      <td>NaN</td>\n",
       "      <td>Yes</td>\n",
       "      <td>Yes</td>\n",
       "      <td>Often</td>\n",
       "      <td>26-100</td>\n",
       "      <td>...</td>\n",
       "      <td>Somewhat difficult</td>\n",
       "      <td>Yes</td>\n",
       "      <td>Yes</td>\n",
       "      <td>Some of them</td>\n",
       "      <td>No</td>\n",
       "      <td>Maybe</td>\n",
       "      <td>Maybe</td>\n",
       "      <td>No</td>\n",
       "      <td>Yes</td>\n",
       "      <td>NaN</td>\n",
       "    </tr>\n",
       "    <tr>\n",
       "      <th>4</th>\n",
       "      <td>2014-08-27 11:30:22</td>\n",
       "      <td>31</td>\n",
       "      <td>Male</td>\n",
       "      <td>United States</td>\n",
       "      <td>TX</td>\n",
       "      <td>NaN</td>\n",
       "      <td>No</td>\n",
       "      <td>No</td>\n",
       "      <td>Never</td>\n",
       "      <td>100-500</td>\n",
       "      <td>...</td>\n",
       "      <td>Don't know</td>\n",
       "      <td>No</td>\n",
       "      <td>No</td>\n",
       "      <td>Some of them</td>\n",
       "      <td>Yes</td>\n",
       "      <td>Yes</td>\n",
       "      <td>Yes</td>\n",
       "      <td>Don't know</td>\n",
       "      <td>No</td>\n",
       "      <td>NaN</td>\n",
       "    </tr>\n",
       "  </tbody>\n",
       "</table>\n",
       "<p>5 rows × 27 columns</p>\n",
       "</div>"
      ],
      "text/plain": [
       "             Timestamp  Age  Gender         Country state self_employed  \\\n",
       "0  2014-08-27 11:29:31   37  Female   United States    IL           NaN   \n",
       "1  2014-08-27 11:29:37   44       M   United States    IN           NaN   \n",
       "2  2014-08-27 11:29:44   32    Male          Canada   NaN           NaN   \n",
       "3  2014-08-27 11:29:46   31    Male  United Kingdom   NaN           NaN   \n",
       "4  2014-08-27 11:30:22   31    Male   United States    TX           NaN   \n",
       "\n",
       "  family_history treatment work_interfere    no_employees  ...  \\\n",
       "0             No       Yes          Often            6-25  ...   \n",
       "1             No        No         Rarely  More than 1000  ...   \n",
       "2             No        No         Rarely            6-25  ...   \n",
       "3            Yes       Yes          Often          26-100  ...   \n",
       "4             No        No          Never         100-500  ...   \n",
       "\n",
       "                leave mental_health_consequence phys_health_consequence  \\\n",
       "0       Somewhat easy                        No                      No   \n",
       "1          Don't know                     Maybe                      No   \n",
       "2  Somewhat difficult                        No                      No   \n",
       "3  Somewhat difficult                       Yes                     Yes   \n",
       "4          Don't know                        No                      No   \n",
       "\n",
       "      coworkers supervisor mental_health_interview phys_health_interview  \\\n",
       "0  Some of them        Yes                      No                 Maybe   \n",
       "1            No         No                      No                    No   \n",
       "2           Yes        Yes                     Yes                   Yes   \n",
       "3  Some of them         No                   Maybe                 Maybe   \n",
       "4  Some of them        Yes                     Yes                   Yes   \n",
       "\n",
       "  mental_vs_physical obs_consequence comments  \n",
       "0                Yes              No      NaN  \n",
       "1         Don't know              No      NaN  \n",
       "2                 No              No      NaN  \n",
       "3                 No             Yes      NaN  \n",
       "4         Don't know              No      NaN  \n",
       "\n",
       "[5 rows x 27 columns]"
      ]
     },
     "execution_count": 4,
     "metadata": {},
     "output_type": "execute_result"
    }
   ],
   "source": [
    "df.head()"
   ]
  },
  {
   "cell_type": "code",
   "execution_count": 5,
   "metadata": {},
   "outputs": [
    {
     "data": {
      "text/plain": [
       "Timestamp                    object\n",
       "Age                           int64\n",
       "Gender                       object\n",
       "Country                      object\n",
       "state                        object\n",
       "self_employed                object\n",
       "family_history               object\n",
       "treatment                    object\n",
       "work_interfere               object\n",
       "no_employees                 object\n",
       "remote_work                  object\n",
       "tech_company                 object\n",
       "benefits                     object\n",
       "care_options                 object\n",
       "wellness_program             object\n",
       "seek_help                    object\n",
       "anonymity                    object\n",
       "leave                        object\n",
       "mental_health_consequence    object\n",
       "phys_health_consequence      object\n",
       "coworkers                    object\n",
       "supervisor                   object\n",
       "mental_health_interview      object\n",
       "phys_health_interview        object\n",
       "mental_vs_physical           object\n",
       "obs_consequence              object\n",
       "comments                     object\n",
       "dtype: object"
      ]
     },
     "execution_count": 5,
     "metadata": {},
     "output_type": "execute_result"
    }
   ],
   "source": [
    "#Tipos das colunas\n",
    "df.dtypes"
   ]
  },
  {
   "cell_type": "code",
   "execution_count": 6,
   "metadata": {},
   "outputs": [
    {
     "data": {
      "text/plain": [
       "Timestamp                       0\n",
       "Age                             0\n",
       "Gender                          0\n",
       "Country                         0\n",
       "state                         515\n",
       "self_employed                  18\n",
       "family_history                  0\n",
       "treatment                       0\n",
       "work_interfere                264\n",
       "no_employees                    0\n",
       "remote_work                     0\n",
       "tech_company                    0\n",
       "benefits                        0\n",
       "care_options                    0\n",
       "wellness_program                0\n",
       "seek_help                       0\n",
       "anonymity                       0\n",
       "leave                           0\n",
       "mental_health_consequence       0\n",
       "phys_health_consequence         0\n",
       "coworkers                       0\n",
       "supervisor                      0\n",
       "mental_health_interview         0\n",
       "phys_health_interview           0\n",
       "mental_vs_physical              0\n",
       "obs_consequence                 0\n",
       "comments                     1095\n",
       "dtype: int64"
      ]
     },
     "execution_count": 6,
     "metadata": {},
     "output_type": "execute_result"
    }
   ],
   "source": [
    "#Soma nulos por Coluna\n",
    "df.isnull().sum()"
   ]
  },
  {
   "cell_type": "code",
   "execution_count": 7,
   "metadata": {},
   "outputs": [
    {
     "data": {
      "text/plain": [
       "1892"
      ]
     },
     "execution_count": 7,
     "metadata": {},
     "output_type": "execute_result"
    }
   ],
   "source": [
    "# Soma todos os NaN do dataset\n",
    "df.isna().sum().sum()"
   ]
  },
  {
   "cell_type": "markdown",
   "metadata": {},
   "source": [
    "## 3 Data Preparation"
   ]
  },
  {
   "cell_type": "markdown",
   "metadata": {},
   "source": [
    "### Dealing with missing values\n",
    "<p>Missing values in columns</p>\n",
    "<ul>\n",
    "<li>state - 515</li>\n",
    "<li>self_employed - 18</li>\n",
    "<li>work_interfere - 264</li>\n",
    "<li>comments - 1095</li>\n",
    "</ul>\n",
    "\n"
   ]
  },
  {
   "cell_type": "markdown",
   "metadata": {},
   "source": [
    "#### Dropping Columns"
   ]
  },
  {
   "cell_type": "code",
   "execution_count": 8,
   "metadata": {},
   "outputs": [],
   "source": [
    "# Drop column: comments\n",
    "df.drop([\"comments\"], axis=1, inplace=True)\n",
    "# Drop TimeStamp\n",
    "df.drop([\"Timestamp\"], axis=1, inplace=True)"
   ]
  },
  {
   "cell_type": "code",
   "execution_count": 9,
   "metadata": {},
   "outputs": [
    {
     "data": {
      "text/plain": [
       "Index(['Age', 'Gender', 'Country', 'state', 'self_employed', 'family_history',\n",
       "       'treatment', 'work_interfere', 'no_employees', 'remote_work',\n",
       "       'tech_company', 'benefits', 'care_options', 'wellness_program',\n",
       "       'seek_help', 'anonymity', 'leave', 'mental_health_consequence',\n",
       "       'phys_health_consequence', 'coworkers', 'supervisor',\n",
       "       'mental_health_interview', 'phys_health_interview',\n",
       "       'mental_vs_physical', 'obs_consequence'],\n",
       "      dtype='object')"
      ]
     },
     "execution_count": 9,
     "metadata": {},
     "output_type": "execute_result"
    }
   ],
   "source": [
    "df.columns"
   ]
  },
  {
   "cell_type": "code",
   "execution_count": 10,
   "metadata": {},
   "outputs": [
    {
     "data": {
      "text/plain": [
       "Age                            0\n",
       "Gender                         0\n",
       "Country                        0\n",
       "state                        515\n",
       "self_employed                 18\n",
       "family_history                 0\n",
       "treatment                      0\n",
       "work_interfere               264\n",
       "no_employees                   0\n",
       "remote_work                    0\n",
       "tech_company                   0\n",
       "benefits                       0\n",
       "care_options                   0\n",
       "wellness_program               0\n",
       "seek_help                      0\n",
       "anonymity                      0\n",
       "leave                          0\n",
       "mental_health_consequence      0\n",
       "phys_health_consequence        0\n",
       "coworkers                      0\n",
       "supervisor                     0\n",
       "mental_health_interview        0\n",
       "phys_health_interview          0\n",
       "mental_vs_physical             0\n",
       "obs_consequence                0\n",
       "dtype: int64"
      ]
     },
     "execution_count": 10,
     "metadata": {},
     "output_type": "execute_result"
    }
   ],
   "source": [
    "# Sum of null values\n",
    "df.isnull().sum()"
   ]
  },
  {
   "cell_type": "markdown",
   "metadata": {},
   "source": [
    "#### Replacing with null values\n",
    "<ul>\n",
    "<li>self_employed - 18</li>\n",
    "<li>work_interfere - 264</li>\n",
    "<li>state - 515</li>\n",
    "</ul>"
   ]
  },
  {
   "cell_type": "code",
   "execution_count": 11,
   "metadata": {},
   "outputs": [
    {
     "data": {
      "text/plain": [
       "No     1095\n",
       "Yes     146\n",
       "NaN      18\n",
       "Name: self_employed, dtype: int64"
      ]
     },
     "execution_count": 11,
     "metadata": {},
     "output_type": "execute_result"
    }
   ],
   "source": [
    "df['self_employed'].value_counts(dropna=False)"
   ]
  },
  {
   "cell_type": "code",
   "execution_count": 12,
   "metadata": {},
   "outputs": [
    {
     "data": {
      "text/plain": [
       "Sometimes    465\n",
       "NaN          264\n",
       "Never        213\n",
       "Rarely       173\n",
       "Often        144\n",
       "Name: work_interfere, dtype: int64"
      ]
     },
     "execution_count": 12,
     "metadata": {},
     "output_type": "execute_result"
    }
   ],
   "source": [
    "df['work_interfere'].value_counts(dropna=False)"
   ]
  },
  {
   "cell_type": "code",
   "execution_count": 13,
   "metadata": {},
   "outputs": [
    {
     "data": {
      "text/plain": [
       "NaN    515\n",
       "CA     138\n",
       "WA      70\n",
       "NY      57\n",
       "TN      45\n",
       "TX      44\n",
       "OH      30\n",
       "IL      29\n",
       "OR      29\n",
       "PA      29\n",
       "IN      27\n",
       "MI      22\n",
       "MN      21\n",
       "MA      20\n",
       "FL      15\n",
       "NC      14\n",
       "VA      14\n",
       "WI      12\n",
       "GA      12\n",
       "MO      12\n",
       "UT      11\n",
       "CO       9\n",
       "MD       8\n",
       "AL       8\n",
       "AZ       7\n",
       "OK       6\n",
       "NJ       6\n",
       "KY       5\n",
       "SC       5\n",
       "IA       4\n",
       "CT       4\n",
       "DC       4\n",
       "NV       3\n",
       "VT       3\n",
       "SD       3\n",
       "KS       3\n",
       "NH       3\n",
       "WY       2\n",
       "NM       2\n",
       "NE       2\n",
       "WV       1\n",
       "ID       1\n",
       "MS       1\n",
       "RI       1\n",
       "LA       1\n",
       "ME       1\n",
       "Name: state, dtype: int64"
      ]
     },
     "execution_count": 13,
     "metadata": {},
     "output_type": "execute_result"
    }
   ],
   "source": [
    "df['state'].value_counts(dropna=False)"
   ]
  },
  {
   "cell_type": "markdown",
   "metadata": {},
   "source": [
    "#### Interpole data to self_employed and work_interfere"
   ]
  },
  {
   "cell_type": "code",
   "execution_count": 14,
   "metadata": {},
   "outputs": [],
   "source": [
    "df['self_employed'].fillna('Not Informed', inplace=True)\n",
    "df['work_interfere'].fillna('Not Informed', inplace=True)\n",
    "df['state'].fillna('Not Informed', inplace=True)"
   ]
  },
  {
   "cell_type": "code",
   "execution_count": 15,
   "metadata": {},
   "outputs": [
    {
     "data": {
      "text/plain": [
       "No              1095\n",
       "Yes              146\n",
       "Not Informed      18\n",
       "Name: self_employed, dtype: int64"
      ]
     },
     "execution_count": 15,
     "metadata": {},
     "output_type": "execute_result"
    }
   ],
   "source": [
    "df['self_employed'].value_counts(dropna=False)"
   ]
  },
  {
   "cell_type": "code",
   "execution_count": 16,
   "metadata": {},
   "outputs": [
    {
     "data": {
      "text/plain": [
       "Sometimes       465\n",
       "Not Informed    264\n",
       "Never           213\n",
       "Rarely          173\n",
       "Often           144\n",
       "Name: work_interfere, dtype: int64"
      ]
     },
     "execution_count": 16,
     "metadata": {},
     "output_type": "execute_result"
    }
   ],
   "source": [
    "df['work_interfere'].value_counts(dropna=False)"
   ]
  },
  {
   "cell_type": "code",
   "execution_count": 17,
   "metadata": {},
   "outputs": [
    {
     "data": {
      "text/plain": [
       "Not Informed    515\n",
       "CA              138\n",
       "WA               70\n",
       "NY               57\n",
       "TN               45\n",
       "TX               44\n",
       "OH               30\n",
       "IL               29\n",
       "OR               29\n",
       "PA               29\n",
       "IN               27\n",
       "MI               22\n",
       "MN               21\n",
       "MA               20\n",
       "FL               15\n",
       "NC               14\n",
       "VA               14\n",
       "WI               12\n",
       "GA               12\n",
       "MO               12\n",
       "UT               11\n",
       "CO                9\n",
       "MD                8\n",
       "AL                8\n",
       "AZ                7\n",
       "OK                6\n",
       "NJ                6\n",
       "KY                5\n",
       "SC                5\n",
       "IA                4\n",
       "CT                4\n",
       "DC                4\n",
       "NV                3\n",
       "VT                3\n",
       "SD                3\n",
       "KS                3\n",
       "NH                3\n",
       "WY                2\n",
       "NM                2\n",
       "NE                2\n",
       "WV                1\n",
       "ID                1\n",
       "MS                1\n",
       "RI                1\n",
       "LA                1\n",
       "ME                1\n",
       "Name: state, dtype: int64"
      ]
     },
     "execution_count": 17,
     "metadata": {},
     "output_type": "execute_result"
    }
   ],
   "source": [
    "df['state'].value_counts(dropna=False)"
   ]
  },
  {
   "cell_type": "code",
   "execution_count": 18,
   "metadata": {},
   "outputs": [
    {
     "data": {
      "text/plain": [
       "Age                          0\n",
       "Gender                       0\n",
       "Country                      0\n",
       "state                        0\n",
       "self_employed                0\n",
       "family_history               0\n",
       "treatment                    0\n",
       "work_interfere               0\n",
       "no_employees                 0\n",
       "remote_work                  0\n",
       "tech_company                 0\n",
       "benefits                     0\n",
       "care_options                 0\n",
       "wellness_program             0\n",
       "seek_help                    0\n",
       "anonymity                    0\n",
       "leave                        0\n",
       "mental_health_consequence    0\n",
       "phys_health_consequence      0\n",
       "coworkers                    0\n",
       "supervisor                   0\n",
       "mental_health_interview      0\n",
       "phys_health_interview        0\n",
       "mental_vs_physical           0\n",
       "obs_consequence              0\n",
       "dtype: int64"
      ]
     },
     "execution_count": 18,
     "metadata": {},
     "output_type": "execute_result"
    }
   ],
   "source": [
    "df.isnull().sum()"
   ]
  },
  {
   "cell_type": "markdown",
   "metadata": {},
   "source": [
    "## 4 Exploração Analítica (EDA)"
   ]
  },
  {
   "cell_type": "code",
   "execution_count": 19,
   "metadata": {},
   "outputs": [],
   "source": [
    "categorical_features = df.columns[df.dtypes == object]\n",
    "numerical_features = df.columns[df.dtypes != object]"
   ]
  },
  {
   "cell_type": "code",
   "execution_count": 20,
   "metadata": {},
   "outputs": [
    {
     "data": {
      "text/plain": [
       "Index(['Gender', 'Country', 'state', 'self_employed', 'family_history',\n",
       "       'treatment', 'work_interfere', 'no_employees', 'remote_work',\n",
       "       'tech_company', 'benefits', 'care_options', 'wellness_program',\n",
       "       'seek_help', 'anonymity', 'leave', 'mental_health_consequence',\n",
       "       'phys_health_consequence', 'coworkers', 'supervisor',\n",
       "       'mental_health_interview', 'phys_health_interview',\n",
       "       'mental_vs_physical', 'obs_consequence'],\n",
       "      dtype='object')"
      ]
     },
     "execution_count": 20,
     "metadata": {},
     "output_type": "execute_result"
    }
   ],
   "source": [
    "categorical_features"
   ]
  },
  {
   "cell_type": "code",
   "execution_count": 21,
   "metadata": {},
   "outputs": [
    {
     "data": {
      "text/plain": [
       "Index(['Age'], dtype='object')"
      ]
     },
     "execution_count": 21,
     "metadata": {},
     "output_type": "execute_result"
    }
   ],
   "source": [
    "numerical_features"
   ]
  },
  {
   "cell_type": "code",
   "execution_count": 22,
   "metadata": {},
   "outputs": [
    {
     "data": {
      "text/plain": [
       "24"
      ]
     },
     "execution_count": 22,
     "metadata": {},
     "output_type": "execute_result"
    }
   ],
   "source": [
    "# Quantity of categorical features - 24\n",
    "len(categorical_features)"
   ]
  },
  {
   "cell_type": "code",
   "execution_count": 23,
   "metadata": {},
   "outputs": [],
   "source": [
    "# Unique fields in each feature"
   ]
  },
  {
   "cell_type": "code",
   "execution_count": 24,
   "metadata": {},
   "outputs": [],
   "source": [
    "def unique_features(features):\n",
    "    dict_features ={}\n",
    "    for feature in features:\n",
    "        dict_features[feature] = features[feature].value_counts()\n",
    "    return dict_features"
   ]
  },
  {
   "cell_type": "code",
   "execution_count": 25,
   "metadata": {},
   "outputs": [],
   "source": [
    "unique_f = unique_features(df)"
   ]
  },
  {
   "cell_type": "code",
   "execution_count": 26,
   "metadata": {},
   "outputs": [
    {
     "data": {
      "text/plain": [
       "{'Age':  29             85\n",
       "  32             82\n",
       "  26             75\n",
       "  27             71\n",
       "  33             70\n",
       "  28             68\n",
       "  31             67\n",
       "  34             65\n",
       "  30             63\n",
       "  25             61\n",
       "  35             55\n",
       "  23             51\n",
       "  24             46\n",
       "  37             43\n",
       "  38             39\n",
       "  36             37\n",
       "  40             33\n",
       "  39             33\n",
       "  43             28\n",
       "  22             21\n",
       "  41             21\n",
       "  42             20\n",
       "  21             16\n",
       "  45             12\n",
       "  46             12\n",
       "  44             11\n",
       "  19              9\n",
       "  18              7\n",
       "  48              6\n",
       "  50              6\n",
       "  20              6\n",
       "  51              5\n",
       "  49              4\n",
       "  56              4\n",
       "  57              3\n",
       "  54              3\n",
       "  55              3\n",
       "  47              2\n",
       "  60              2\n",
       "  99999999999     1\n",
       "  5               1\n",
       " -1               1\n",
       "  11              1\n",
       "  8               1\n",
       "  61              1\n",
       "  53              1\n",
       " -29              1\n",
       " -1726            1\n",
       "  65              1\n",
       "  62              1\n",
       "  58              1\n",
       "  329             1\n",
       "  72              1\n",
       " Name: Age, dtype: int64,\n",
       " 'Gender': Male                                              615\n",
       " male                                              206\n",
       " Female                                            121\n",
       " M                                                 116\n",
       " female                                             62\n",
       " F                                                  38\n",
       " m                                                  34\n",
       " f                                                  15\n",
       " Make                                                4\n",
       " Male                                                3\n",
       " Woman                                               3\n",
       " Cis Male                                            2\n",
       " Man                                                 2\n",
       " Female (trans)                                      2\n",
       " Female                                              2\n",
       " Trans woman                                         1\n",
       " msle                                                1\n",
       " male leaning androgynous                            1\n",
       " Neuter                                              1\n",
       " cis male                                            1\n",
       " queer                                               1\n",
       " Female (cis)                                        1\n",
       " Mail                                                1\n",
       " cis-female/femme                                    1\n",
       " A little about you                                  1\n",
       " Malr                                                1\n",
       " p                                                   1\n",
       " femail                                              1\n",
       " Cis Man                                             1\n",
       " Guy (-ish) ^_^                                      1\n",
       " Enby                                                1\n",
       " Agender                                             1\n",
       " Androgyne                                           1\n",
       " Male-ish                                            1\n",
       " maile                                               1\n",
       " Trans-female                                        1\n",
       " Cis Female                                          1\n",
       " something kinda male?                               1\n",
       " Mal                                                 1\n",
       " Male (CIS)                                          1\n",
       " queer/she/they                                      1\n",
       " non-binary                                          1\n",
       " Femake                                              1\n",
       " woman                                               1\n",
       " Nah                                                 1\n",
       " All                                                 1\n",
       " fluid                                               1\n",
       " Genderqueer                                         1\n",
       " ostensibly male, unsure what that really means      1\n",
       " Name: Gender, dtype: int64,\n",
       " 'Country': United States             751\n",
       " United Kingdom            185\n",
       " Canada                     72\n",
       " Germany                    45\n",
       " Ireland                    27\n",
       " Netherlands                27\n",
       " Australia                  21\n",
       " France                     13\n",
       " India                      10\n",
       " New Zealand                 8\n",
       " Poland                      7\n",
       " Switzerland                 7\n",
       " Sweden                      7\n",
       " Italy                       7\n",
       " South Africa                6\n",
       " Belgium                     6\n",
       " Brazil                      6\n",
       " Israel                      5\n",
       " Singapore                   4\n",
       " Bulgaria                    4\n",
       " Austria                     3\n",
       " Finland                     3\n",
       " Mexico                      3\n",
       " Russia                      3\n",
       " Denmark                     2\n",
       " Greece                      2\n",
       " Colombia                    2\n",
       " Croatia                     2\n",
       " Portugal                    2\n",
       " Moldova                     1\n",
       " Georgia                     1\n",
       " Bahamas, The                1\n",
       " China                       1\n",
       " Thailand                    1\n",
       " Czech Republic              1\n",
       " Norway                      1\n",
       " Romania                     1\n",
       " Nigeria                     1\n",
       " Japan                       1\n",
       " Hungary                     1\n",
       " Bosnia and Herzegovina      1\n",
       " Uruguay                     1\n",
       " Spain                       1\n",
       " Zimbabwe                    1\n",
       " Latvia                      1\n",
       " Costa Rica                  1\n",
       " Slovenia                    1\n",
       " Philippines                 1\n",
       " Name: Country, dtype: int64,\n",
       " 'state': Not Informed    515\n",
       " CA              138\n",
       " WA               70\n",
       " NY               57\n",
       " TN               45\n",
       " TX               44\n",
       " OH               30\n",
       " IL               29\n",
       " OR               29\n",
       " PA               29\n",
       " IN               27\n",
       " MI               22\n",
       " MN               21\n",
       " MA               20\n",
       " FL               15\n",
       " NC               14\n",
       " VA               14\n",
       " WI               12\n",
       " GA               12\n",
       " MO               12\n",
       " UT               11\n",
       " CO                9\n",
       " MD                8\n",
       " AL                8\n",
       " AZ                7\n",
       " OK                6\n",
       " NJ                6\n",
       " KY                5\n",
       " SC                5\n",
       " IA                4\n",
       " CT                4\n",
       " DC                4\n",
       " NV                3\n",
       " VT                3\n",
       " SD                3\n",
       " KS                3\n",
       " NH                3\n",
       " WY                2\n",
       " NM                2\n",
       " NE                2\n",
       " WV                1\n",
       " ID                1\n",
       " MS                1\n",
       " RI                1\n",
       " LA                1\n",
       " ME                1\n",
       " Name: state, dtype: int64,\n",
       " 'self_employed': No              1095\n",
       " Yes              146\n",
       " Not Informed      18\n",
       " Name: self_employed, dtype: int64,\n",
       " 'family_history': No     767\n",
       " Yes    492\n",
       " Name: family_history, dtype: int64,\n",
       " 'treatment': Yes    637\n",
       " No     622\n",
       " Name: treatment, dtype: int64,\n",
       " 'work_interfere': Sometimes       465\n",
       " Not Informed    264\n",
       " Never           213\n",
       " Rarely          173\n",
       " Often           144\n",
       " Name: work_interfere, dtype: int64,\n",
       " 'no_employees': 6-25              290\n",
       " 26-100            289\n",
       " More than 1000    282\n",
       " 100-500           176\n",
       " 1-5               162\n",
       " 500-1000           60\n",
       " Name: no_employees, dtype: int64,\n",
       " 'remote_work': No     883\n",
       " Yes    376\n",
       " Name: remote_work, dtype: int64,\n",
       " 'tech_company': Yes    1031\n",
       " No      228\n",
       " Name: tech_company, dtype: int64,\n",
       " 'benefits': Yes           477\n",
       " Don't know    408\n",
       " No            374\n",
       " Name: benefits, dtype: int64,\n",
       " 'care_options': No          501\n",
       " Yes         444\n",
       " Not sure    314\n",
       " Name: care_options, dtype: int64,\n",
       " 'wellness_program': No            842\n",
       " Yes           229\n",
       " Don't know    188\n",
       " Name: wellness_program, dtype: int64,\n",
       " 'seek_help': No            646\n",
       " Don't know    363\n",
       " Yes           250\n",
       " Name: seek_help, dtype: int64,\n",
       " 'anonymity': Don't know    819\n",
       " Yes           375\n",
       " No             65\n",
       " Name: anonymity, dtype: int64,\n",
       " 'leave': Don't know            563\n",
       " Somewhat easy         266\n",
       " Very easy             206\n",
       " Somewhat difficult    126\n",
       " Very difficult         98\n",
       " Name: leave, dtype: int64,\n",
       " 'mental_health_consequence': No       490\n",
       " Maybe    477\n",
       " Yes      292\n",
       " Name: mental_health_consequence, dtype: int64,\n",
       " 'phys_health_consequence': No       925\n",
       " Maybe    273\n",
       " Yes       61\n",
       " Name: phys_health_consequence, dtype: int64,\n",
       " 'coworkers': Some of them    774\n",
       " No              260\n",
       " Yes             225\n",
       " Name: coworkers, dtype: int64,\n",
       " 'supervisor': Yes             516\n",
       " No              393\n",
       " Some of them    350\n",
       " Name: supervisor, dtype: int64,\n",
       " 'mental_health_interview': No       1008\n",
       " Maybe     207\n",
       " Yes        44\n",
       " Name: mental_health_interview, dtype: int64,\n",
       " 'phys_health_interview': Maybe    557\n",
       " No       500\n",
       " Yes      202\n",
       " Name: phys_health_interview, dtype: int64,\n",
       " 'mental_vs_physical': Don't know    576\n",
       " Yes           343\n",
       " No            340\n",
       " Name: mental_vs_physical, dtype: int64,\n",
       " 'obs_consequence': No     1075\n",
       " Yes     184\n",
       " Name: obs_consequence, dtype: int64}"
      ]
     },
     "execution_count": 26,
     "metadata": {},
     "output_type": "execute_result"
    }
   ],
   "source": [
    "unique_f"
   ]
  },
  {
   "cell_type": "markdown",
   "metadata": {},
   "source": [
    "## 5 Features Engineering"
   ]
  },
  {
   "cell_type": "markdown",
   "metadata": {},
   "source": [
    "#### 1 - Numerical Values"
   ]
  },
  {
   "cell_type": "code",
   "execution_count": 27,
   "metadata": {},
   "outputs": [
    {
     "data": {
      "text/plain": [
       "31.0"
      ]
     },
     "execution_count": 27,
     "metadata": {},
     "output_type": "execute_result"
    }
   ],
   "source": [
    "## min: -1726 and MAX: 99999999999\n",
    "## get the Median and substitute\n",
    "df['Age'].median()"
   ]
  },
  {
   "cell_type": "code",
   "execution_count": 28,
   "metadata": {},
   "outputs": [
    {
     "data": {
      "text/html": [
       "<div>\n",
       "<style scoped>\n",
       "    .dataframe tbody tr th:only-of-type {\n",
       "        vertical-align: middle;\n",
       "    }\n",
       "\n",
       "    .dataframe tbody tr th {\n",
       "        vertical-align: top;\n",
       "    }\n",
       "\n",
       "    .dataframe thead th {\n",
       "        text-align: right;\n",
       "    }\n",
       "</style>\n",
       "<table border=\"1\" class=\"dataframe\">\n",
       "  <thead>\n",
       "    <tr style=\"text-align: right;\">\n",
       "      <th></th>\n",
       "      <th>Age</th>\n",
       "      <th>Gender</th>\n",
       "      <th>Country</th>\n",
       "      <th>state</th>\n",
       "      <th>self_employed</th>\n",
       "      <th>family_history</th>\n",
       "      <th>treatment</th>\n",
       "      <th>work_interfere</th>\n",
       "      <th>no_employees</th>\n",
       "      <th>remote_work</th>\n",
       "      <th>...</th>\n",
       "      <th>anonymity</th>\n",
       "      <th>leave</th>\n",
       "      <th>mental_health_consequence</th>\n",
       "      <th>phys_health_consequence</th>\n",
       "      <th>coworkers</th>\n",
       "      <th>supervisor</th>\n",
       "      <th>mental_health_interview</th>\n",
       "      <th>phys_health_interview</th>\n",
       "      <th>mental_vs_physical</th>\n",
       "      <th>obs_consequence</th>\n",
       "    </tr>\n",
       "  </thead>\n",
       "  <tbody>\n",
       "    <tr>\n",
       "      <th>364</th>\n",
       "      <td>329</td>\n",
       "      <td>Male</td>\n",
       "      <td>United States</td>\n",
       "      <td>OH</td>\n",
       "      <td>No</td>\n",
       "      <td>No</td>\n",
       "      <td>Yes</td>\n",
       "      <td>Often</td>\n",
       "      <td>6-25</td>\n",
       "      <td>Yes</td>\n",
       "      <td>...</td>\n",
       "      <td>Don't know</td>\n",
       "      <td>Don't know</td>\n",
       "      <td>Maybe</td>\n",
       "      <td>No</td>\n",
       "      <td>Some of them</td>\n",
       "      <td>No</td>\n",
       "      <td>No</td>\n",
       "      <td>No</td>\n",
       "      <td>No</td>\n",
       "      <td>No</td>\n",
       "    </tr>\n",
       "    <tr>\n",
       "      <th>390</th>\n",
       "      <td>99999999999</td>\n",
       "      <td>All</td>\n",
       "      <td>Zimbabwe</td>\n",
       "      <td>Not Informed</td>\n",
       "      <td>Yes</td>\n",
       "      <td>Yes</td>\n",
       "      <td>Yes</td>\n",
       "      <td>Often</td>\n",
       "      <td>1-5</td>\n",
       "      <td>No</td>\n",
       "      <td>...</td>\n",
       "      <td>No</td>\n",
       "      <td>Very difficult</td>\n",
       "      <td>Yes</td>\n",
       "      <td>Yes</td>\n",
       "      <td>No</td>\n",
       "      <td>No</td>\n",
       "      <td>Yes</td>\n",
       "      <td>No</td>\n",
       "      <td>No</td>\n",
       "      <td>Yes</td>\n",
       "    </tr>\n",
       "  </tbody>\n",
       "</table>\n",
       "<p>2 rows × 25 columns</p>\n",
       "</div>"
      ],
      "text/plain": [
       "             Age Gender        Country         state self_employed  \\\n",
       "364          329   Male  United States            OH            No   \n",
       "390  99999999999    All       Zimbabwe  Not Informed           Yes   \n",
       "\n",
       "    family_history treatment work_interfere no_employees remote_work  ...  \\\n",
       "364             No       Yes          Often         6-25         Yes  ...   \n",
       "390            Yes       Yes          Often          1-5          No  ...   \n",
       "\n",
       "      anonymity           leave mental_health_consequence  \\\n",
       "364  Don't know      Don't know                     Maybe   \n",
       "390          No  Very difficult                       Yes   \n",
       "\n",
       "    phys_health_consequence     coworkers supervisor mental_health_interview  \\\n",
       "364                      No  Some of them         No                      No   \n",
       "390                     Yes            No         No                     Yes   \n",
       "\n",
       "    phys_health_interview mental_vs_physical obs_consequence  \n",
       "364                    No                 No              No  \n",
       "390                    No                 No             Yes  \n",
       "\n",
       "[2 rows x 25 columns]"
      ]
     },
     "execution_count": 28,
     "metadata": {},
     "output_type": "execute_result"
    }
   ],
   "source": [
    "# Ages > 100  => 329,99999999999\n",
    "df[df['Age']>100]"
   ]
  },
  {
   "cell_type": "code",
   "execution_count": 29,
   "metadata": {},
   "outputs": [
    {
     "data": {
      "text/html": [
       "<div>\n",
       "<style scoped>\n",
       "    .dataframe tbody tr th:only-of-type {\n",
       "        vertical-align: middle;\n",
       "    }\n",
       "\n",
       "    .dataframe tbody tr th {\n",
       "        vertical-align: top;\n",
       "    }\n",
       "\n",
       "    .dataframe thead th {\n",
       "        text-align: right;\n",
       "    }\n",
       "</style>\n",
       "<table border=\"1\" class=\"dataframe\">\n",
       "  <thead>\n",
       "    <tr style=\"text-align: right;\">\n",
       "      <th></th>\n",
       "      <th>Age</th>\n",
       "      <th>Gender</th>\n",
       "      <th>Country</th>\n",
       "      <th>state</th>\n",
       "      <th>self_employed</th>\n",
       "      <th>family_history</th>\n",
       "      <th>treatment</th>\n",
       "      <th>work_interfere</th>\n",
       "      <th>no_employees</th>\n",
       "      <th>remote_work</th>\n",
       "      <th>...</th>\n",
       "      <th>anonymity</th>\n",
       "      <th>leave</th>\n",
       "      <th>mental_health_consequence</th>\n",
       "      <th>phys_health_consequence</th>\n",
       "      <th>coworkers</th>\n",
       "      <th>supervisor</th>\n",
       "      <th>mental_health_interview</th>\n",
       "      <th>phys_health_interview</th>\n",
       "      <th>mental_vs_physical</th>\n",
       "      <th>obs_consequence</th>\n",
       "    </tr>\n",
       "  </thead>\n",
       "  <tbody>\n",
       "    <tr>\n",
       "      <th>143</th>\n",
       "      <td>-29</td>\n",
       "      <td>Male</td>\n",
       "      <td>United States</td>\n",
       "      <td>MN</td>\n",
       "      <td>No</td>\n",
       "      <td>No</td>\n",
       "      <td>No</td>\n",
       "      <td>Not Informed</td>\n",
       "      <td>More than 1000</td>\n",
       "      <td>Yes</td>\n",
       "      <td>...</td>\n",
       "      <td>Don't know</td>\n",
       "      <td>Don't know</td>\n",
       "      <td>No</td>\n",
       "      <td>No</td>\n",
       "      <td>Some of them</td>\n",
       "      <td>Yes</td>\n",
       "      <td>No</td>\n",
       "      <td>No</td>\n",
       "      <td>Don't know</td>\n",
       "      <td>No</td>\n",
       "    </tr>\n",
       "    <tr>\n",
       "      <th>715</th>\n",
       "      <td>-1726</td>\n",
       "      <td>male</td>\n",
       "      <td>United Kingdom</td>\n",
       "      <td>Not Informed</td>\n",
       "      <td>No</td>\n",
       "      <td>No</td>\n",
       "      <td>Yes</td>\n",
       "      <td>Sometimes</td>\n",
       "      <td>26-100</td>\n",
       "      <td>No</td>\n",
       "      <td>...</td>\n",
       "      <td>Don't know</td>\n",
       "      <td>Somewhat difficult</td>\n",
       "      <td>Yes</td>\n",
       "      <td>No</td>\n",
       "      <td>No</td>\n",
       "      <td>No</td>\n",
       "      <td>No</td>\n",
       "      <td>Maybe</td>\n",
       "      <td>Don't know</td>\n",
       "      <td>No</td>\n",
       "    </tr>\n",
       "    <tr>\n",
       "      <th>734</th>\n",
       "      <td>5</td>\n",
       "      <td>Male</td>\n",
       "      <td>United States</td>\n",
       "      <td>OH</td>\n",
       "      <td>No</td>\n",
       "      <td>No</td>\n",
       "      <td>No</td>\n",
       "      <td>Not Informed</td>\n",
       "      <td>100-500</td>\n",
       "      <td>No</td>\n",
       "      <td>...</td>\n",
       "      <td>Don't know</td>\n",
       "      <td>Somewhat easy</td>\n",
       "      <td>No</td>\n",
       "      <td>No</td>\n",
       "      <td>Yes</td>\n",
       "      <td>Yes</td>\n",
       "      <td>No</td>\n",
       "      <td>No</td>\n",
       "      <td>Yes</td>\n",
       "      <td>No</td>\n",
       "    </tr>\n",
       "    <tr>\n",
       "      <th>989</th>\n",
       "      <td>8</td>\n",
       "      <td>A little about you</td>\n",
       "      <td>Bahamas, The</td>\n",
       "      <td>IL</td>\n",
       "      <td>Yes</td>\n",
       "      <td>Yes</td>\n",
       "      <td>Yes</td>\n",
       "      <td>Often</td>\n",
       "      <td>1-5</td>\n",
       "      <td>Yes</td>\n",
       "      <td>...</td>\n",
       "      <td>Yes</td>\n",
       "      <td>Very easy</td>\n",
       "      <td>Yes</td>\n",
       "      <td>Yes</td>\n",
       "      <td>Yes</td>\n",
       "      <td>Yes</td>\n",
       "      <td>Yes</td>\n",
       "      <td>Yes</td>\n",
       "      <td>Yes</td>\n",
       "      <td>Yes</td>\n",
       "    </tr>\n",
       "    <tr>\n",
       "      <th>1090</th>\n",
       "      <td>11</td>\n",
       "      <td>male</td>\n",
       "      <td>United States</td>\n",
       "      <td>OH</td>\n",
       "      <td>Yes</td>\n",
       "      <td>No</td>\n",
       "      <td>No</td>\n",
       "      <td>Never</td>\n",
       "      <td>1-5</td>\n",
       "      <td>Yes</td>\n",
       "      <td>...</td>\n",
       "      <td>Yes</td>\n",
       "      <td>Very easy</td>\n",
       "      <td>No</td>\n",
       "      <td>No</td>\n",
       "      <td>Some of them</td>\n",
       "      <td>Some of them</td>\n",
       "      <td>No</td>\n",
       "      <td>Maybe</td>\n",
       "      <td>Yes</td>\n",
       "      <td>No</td>\n",
       "    </tr>\n",
       "    <tr>\n",
       "      <th>1127</th>\n",
       "      <td>-1</td>\n",
       "      <td>p</td>\n",
       "      <td>United States</td>\n",
       "      <td>AL</td>\n",
       "      <td>Yes</td>\n",
       "      <td>Yes</td>\n",
       "      <td>Yes</td>\n",
       "      <td>Often</td>\n",
       "      <td>1-5</td>\n",
       "      <td>Yes</td>\n",
       "      <td>...</td>\n",
       "      <td>Yes</td>\n",
       "      <td>Very easy</td>\n",
       "      <td>Yes</td>\n",
       "      <td>Yes</td>\n",
       "      <td>Yes</td>\n",
       "      <td>Yes</td>\n",
       "      <td>Yes</td>\n",
       "      <td>Yes</td>\n",
       "      <td>Yes</td>\n",
       "      <td>Yes</td>\n",
       "    </tr>\n",
       "  </tbody>\n",
       "</table>\n",
       "<p>6 rows × 25 columns</p>\n",
       "</div>"
      ],
      "text/plain": [
       "       Age              Gender         Country         state self_employed  \\\n",
       "143    -29                Male   United States            MN            No   \n",
       "715  -1726                male  United Kingdom  Not Informed            No   \n",
       "734      5                Male   United States            OH            No   \n",
       "989      8  A little about you    Bahamas, The            IL           Yes   \n",
       "1090    11                male   United States            OH           Yes   \n",
       "1127    -1                   p   United States            AL           Yes   \n",
       "\n",
       "     family_history treatment work_interfere    no_employees remote_work  ...  \\\n",
       "143              No        No   Not Informed  More than 1000         Yes  ...   \n",
       "715              No       Yes      Sometimes          26-100          No  ...   \n",
       "734              No        No   Not Informed         100-500          No  ...   \n",
       "989             Yes       Yes          Often             1-5         Yes  ...   \n",
       "1090             No        No          Never             1-5         Yes  ...   \n",
       "1127            Yes       Yes          Often             1-5         Yes  ...   \n",
       "\n",
       "       anonymity               leave mental_health_consequence  \\\n",
       "143   Don't know          Don't know                        No   \n",
       "715   Don't know  Somewhat difficult                       Yes   \n",
       "734   Don't know       Somewhat easy                        No   \n",
       "989          Yes           Very easy                       Yes   \n",
       "1090         Yes           Very easy                        No   \n",
       "1127         Yes           Very easy                       Yes   \n",
       "\n",
       "     phys_health_consequence     coworkers    supervisor  \\\n",
       "143                       No  Some of them           Yes   \n",
       "715                       No            No            No   \n",
       "734                       No           Yes           Yes   \n",
       "989                      Yes           Yes           Yes   \n",
       "1090                      No  Some of them  Some of them   \n",
       "1127                     Yes           Yes           Yes   \n",
       "\n",
       "     mental_health_interview phys_health_interview mental_vs_physical  \\\n",
       "143                       No                    No         Don't know   \n",
       "715                       No                 Maybe         Don't know   \n",
       "734                       No                    No                Yes   \n",
       "989                      Yes                   Yes                Yes   \n",
       "1090                      No                 Maybe                Yes   \n",
       "1127                     Yes                   Yes                Yes   \n",
       "\n",
       "     obs_consequence  \n",
       "143               No  \n",
       "715               No  \n",
       "734               No  \n",
       "989              Yes  \n",
       "1090              No  \n",
       "1127             Yes  \n",
       "\n",
       "[6 rows x 25 columns]"
      ]
     },
     "execution_count": 29,
     "metadata": {},
     "output_type": "execute_result"
    }
   ],
   "source": [
    "# Ages < 15 => -29, -1726, 5, 8, 11, -1\n",
    "df[df['Age']<15]"
   ]
  },
  {
   "cell_type": "code",
   "execution_count": 30,
   "metadata": {},
   "outputs": [],
   "source": [
    "# If Age > 100 or Age < 15  = Median \n",
    "df.loc[df.Age > 100, 'Age'] = df['Age'].median()\n",
    "df.loc[df.Age < 15, 'Age'] = df['Age'].median()"
   ]
  },
  {
   "cell_type": "markdown",
   "metadata": {},
   "source": [
    "#### 2 - Categorical Values"
   ]
  },
  {
   "cell_type": "markdown",
   "metadata": {},
   "source": [
    "#### 2.1 - Gender"
   ]
  },
  {
   "cell_type": "code",
   "execution_count": 31,
   "metadata": {},
   "outputs": [
    {
     "data": {
      "text/plain": [
       "Male                                              48.848292\n",
       "male                                              16.362192\n",
       "Female                                             9.610802\n",
       "M                                                  9.213662\n",
       "female                                             4.924543\n",
       "F                                                  3.018268\n",
       "m                                                  2.700556\n",
       "f                                                  1.191422\n",
       "Make                                               0.317712\n",
       "Male                                               0.238284\n",
       "Woman                                              0.238284\n",
       "Cis Male                                           0.158856\n",
       "Man                                                0.158856\n",
       "Female (trans)                                     0.158856\n",
       "Female                                             0.158856\n",
       "Trans woman                                        0.079428\n",
       "msle                                               0.079428\n",
       "male leaning androgynous                           0.079428\n",
       "Neuter                                             0.079428\n",
       "cis male                                           0.079428\n",
       "queer                                              0.079428\n",
       "Female (cis)                                       0.079428\n",
       "Mail                                               0.079428\n",
       "cis-female/femme                                   0.079428\n",
       "A little about you                                 0.079428\n",
       "Malr                                               0.079428\n",
       "p                                                  0.079428\n",
       "femail                                             0.079428\n",
       "Cis Man                                            0.079428\n",
       "Guy (-ish) ^_^                                     0.079428\n",
       "Enby                                               0.079428\n",
       "Agender                                            0.079428\n",
       "Androgyne                                          0.079428\n",
       "Male-ish                                           0.079428\n",
       "maile                                              0.079428\n",
       "Trans-female                                       0.079428\n",
       "Cis Female                                         0.079428\n",
       "something kinda male?                              0.079428\n",
       "Mal                                                0.079428\n",
       "Male (CIS)                                         0.079428\n",
       "queer/she/they                                     0.079428\n",
       "non-binary                                         0.079428\n",
       "Femake                                             0.079428\n",
       "woman                                              0.079428\n",
       "Nah                                                0.079428\n",
       "All                                                0.079428\n",
       "fluid                                              0.079428\n",
       "Genderqueer                                        0.079428\n",
       "ostensibly male, unsure what that really means     0.079428\n",
       "Name: Gender, dtype: float64"
      ]
     },
     "execution_count": 31,
     "metadata": {},
     "output_type": "execute_result"
    }
   ],
   "source": [
    "# Check quantity of categories\n",
    "df['Gender'].value_counts( normalize=True ) * 100"
   ]
  },
  {
   "cell_type": "code",
   "execution_count": 32,
   "metadata": {},
   "outputs": [
    {
     "data": {
      "text/plain": [
       "count     1259\n",
       "unique      49\n",
       "top       Male\n",
       "freq       615\n",
       "Name: Gender, dtype: object"
      ]
     },
     "execution_count": 32,
     "metadata": {},
     "output_type": "execute_result"
    }
   ],
   "source": [
    "df['Gender'].describe()"
   ]
  },
  {
   "cell_type": "code",
   "execution_count": 33,
   "metadata": {},
   "outputs": [
    {
     "data": {
      "text/plain": [
       "array(['Female', 'M', 'Male', 'male', 'female', 'm', 'Male-ish', 'maile',\n",
       "       'Trans-female', 'Cis Female', 'F', 'something kinda male?',\n",
       "       'Cis Male', 'Woman', 'f', 'Mal', 'Male (CIS)', 'queer/she/they',\n",
       "       'non-binary', 'Femake', 'woman', 'Make', 'Nah', 'All', 'Enby',\n",
       "       'fluid', 'Genderqueer', 'Female ', 'Androgyne', 'Agender',\n",
       "       'cis-female/femme', 'Guy (-ish) ^_^', 'male leaning androgynous',\n",
       "       'Male ', 'Man', 'Trans woman', 'msle', 'Neuter', 'Female (trans)',\n",
       "       'queer', 'Female (cis)', 'Mail', 'cis male', 'A little about you',\n",
       "       'Malr', 'p', 'femail', 'Cis Man',\n",
       "       'ostensibly male, unsure what that really means'], dtype=object)"
      ]
     },
     "execution_count": 33,
     "metadata": {},
     "output_type": "execute_result"
    }
   ],
   "source": [
    "df['Gender'].unique()"
   ]
  },
  {
   "cell_type": "code",
   "execution_count": 34,
   "metadata": {},
   "outputs": [
    {
     "data": {
      "text/plain": [
       "count     1259\n",
       "unique      49\n",
       "top       Male\n",
       "freq       615\n",
       "Name: Gender, dtype: object"
      ]
     },
     "execution_count": 34,
     "metadata": {},
     "output_type": "execute_result"
    }
   ],
   "source": [
    "df['Gender'].describe()"
   ]
  },
  {
   "cell_type": "markdown",
   "metadata": {},
   "source": [
    "#### 2.2 Change Categorical values for Numeric"
   ]
  },
  {
   "cell_type": "code",
   "execution_count": 35,
   "metadata": {},
   "outputs": [
    {
     "data": {
      "text/plain": [
       "Index(['Gender', 'Country', 'state', 'self_employed', 'family_history',\n",
       "       'treatment', 'work_interfere', 'no_employees', 'remote_work',\n",
       "       'tech_company', 'benefits', 'care_options', 'wellness_program',\n",
       "       'seek_help', 'anonymity', 'leave', 'mental_health_consequence',\n",
       "       'phys_health_consequence', 'coworkers', 'supervisor',\n",
       "       'mental_health_interview', 'phys_health_interview',\n",
       "       'mental_vs_physical', 'obs_consequence'],\n",
       "      dtype='object')"
      ]
     },
     "execution_count": 35,
     "metadata": {},
     "output_type": "execute_result"
    }
   ],
   "source": [
    "categorical_features"
   ]
  },
  {
   "cell_type": "code",
   "execution_count": 36,
   "metadata": {},
   "outputs": [
    {
     "data": {
      "text/plain": [
       "array(['No', 'Yes'], dtype=object)"
      ]
     },
     "execution_count": 36,
     "metadata": {},
     "output_type": "execute_result"
    }
   ],
   "source": [
    "df['obs_consequence'].unique()"
   ]
  },
  {
   "cell_type": "code",
   "execution_count": 37,
   "metadata": {},
   "outputs": [
    {
     "data": {
      "text/plain": [
       "0       0\n",
       "1       0\n",
       "2       0\n",
       "3       1\n",
       "4       0\n",
       "       ..\n",
       "1254    0\n",
       "1255    0\n",
       "1256    0\n",
       "1257    0\n",
       "1258    0\n",
       "Name: obs_consequence, Length: 1259, dtype: int32"
      ]
     },
     "execution_count": 37,
     "metadata": {},
     "output_type": "execute_result"
    }
   ],
   "source": [
    "df['Gender'] = df['Gender'].map({'Female':0, 'M':1, 'Male':1, 'male':1, 'female':0, 'm':1, 'Male-ish':2, 'maile':1,\\\n",
    "                                 'Trans-female':2, 'Cis Female':2, 'F':0, 'something kinda male?':2,\\\n",
    "                                 'Cis Male':2, 'Woman':0, 'f':0, 'Mal':1, 'Male (CIS)':2, 'queer/she/they':2,\\\n",
    "                                 'non-binary':2, 'Femake':0, 'woman':0, 'Make':1, 'Nah':2, 'All':2, 'Enby':2,\\\n",
    "                                 'fluid':2, 'Genderqueer':2, 'Female ':0, 'Androgyne':2, 'Agender':2,\\\n",
    "                                 'cis-female/femme':2, 'Guy (-ish) ^_^':2, 'male leaning androgynous':2,\\\n",
    "                                 'Male ':1, 'Man':1, 'Trans woman':2, 'msle':1, 'Neuter':2, 'Female (trans)':2,\\\n",
    "                                 'queer':2, 'Female (cis)':2, 'Mail':1, 'cis male':2, 'A little about you':2,\\\n",
    "                                 'Malr':1, 'p':2, 'femail':0, 'Cis Man':2,\\\n",
    "                                 'ostensibly male, unsure what that really means':2\n",
    "                                })\n",
    "df['Country_num'] = pd.factorize(df['Country'])[0]\n",
    "df['state_num'] = pd.factorize(df['state'])[0]\n",
    "df['self_employed'] = df['self_employed'].map({'Yes':1, 'No':0,'Not Informed':2})\n",
    "df['family_history'] = df['family_history'].map({'Yes':1,'No':0})\n",
    "df['treatment'] = df['treatment'].map({'Yes':1,'No':0})\n",
    "df['work_interfere_num'] = pd.factorize(df['work_interfere'])[0]\n",
    "df['no_employees_num'] = pd.factorize(df['work_interfere'])[0]\n",
    "df['remote_work'] = df['remote_work'].map({'Yes':1,'No':0})\n",
    "df['tech_company'] = df['tech_company'].map({'Yes':1,'No':0})\n",
    "df['obs_consequence'] = df['obs_consequence'].map({'Yes':1,'No':0})\n",
    "df['benefits'] = df['benefits'].map({'Yes':1, \"Don't know\":2, 'No':0})\n",
    "df['care_options'] = df['care_options'].map({'Yes':1, 'Not sure':2, 'No':0})\n",
    "df['wellness_program'] = df['wellness_program'].map({'Yes':1, \"Don't know\":2, 'No':0})\n",
    "df['seek_help'] = df['seek_help'].map({'Yes':1, \"Don't know\":2, 'No':0})\n",
    "df['anonymity'] = df['anonymity'].map({'Yes':1, \"Don't know\":2, 'No':0})\n",
    "df['leave_num'] = pd.factorize(df['leave'])[0]\n",
    "df['mental_health_consequence'] = df['mental_health_consequence'].map({'Yes':1, 'Maybe':2, 'No':0})\n",
    "df['phys_health_consequence'] = df['phys_health_consequence'].map({'Yes':1, 'Maybe':2, 'No':0})\n",
    "df['coworkers'] = df['coworkers'].map({'Yes':1, 'Some of them':2, 'No':0})\n",
    "df['supervisor'] = df['supervisor'].map({'Yes':1, 'Some of them':2, 'No':0})\n",
    "df['mental_health_interview'] = df['mental_health_interview'].map({'Yes':1, 'Maybe':2, 'No':0})\n",
    "df['phys_health_interview'] = df['phys_health_interview'].map({'Yes':1, 'Maybe':2, 'No':0})\n",
    "df['mental_vs_physical'] = df['mental_vs_physical'].map({'Yes':1, \"Don't know\":2, 'No':0})\n",
    "df['obs_consequence'].astype('int')"
   ]
  },
  {
   "cell_type": "code",
   "execution_count": 38,
   "metadata": {},
   "outputs": [],
   "source": [
    "categorical_features_test = df.columns[df.dtypes == object]\n",
    "numerical_features_test = df.columns[df.dtypes != object]"
   ]
  },
  {
   "cell_type": "code",
   "execution_count": 39,
   "metadata": {},
   "outputs": [
    {
     "data": {
      "text/plain": [
       "Index(['Country', 'state', 'work_interfere', 'no_employees', 'leave'], dtype='object')"
      ]
     },
     "execution_count": 39,
     "metadata": {},
     "output_type": "execute_result"
    }
   ],
   "source": [
    "categorical_features_test"
   ]
  },
  {
   "cell_type": "markdown",
   "metadata": {},
   "source": [
    "#### More than two options in Categorical values - use pd.factorize"
   ]
  },
  {
   "cell_type": "code",
   "execution_count": 40,
   "metadata": {},
   "outputs": [
    {
     "data": {
      "text/plain": [
       "Country                 Country_num\n",
       "United States           0              59.650516\n",
       "United Kingdom          2              14.694202\n",
       "Canada                  1               5.718824\n",
       "Germany                 10              3.574265\n",
       "Netherlands             6               2.144559\n",
       "Ireland                 17              2.144559\n",
       "Australia               9               1.667990\n",
       "France                  4               1.032566\n",
       "India                   18              0.794281\n",
       "New Zealand             26              0.635425\n",
       "Italy                   20              0.555997\n",
       "Sweden                  21              0.555997\n",
       "Poland                  8               0.555997\n",
       "Switzerland             7               0.555997\n",
       "South Africa            19              0.476569\n",
       "Brazil                  13              0.476569\n",
       "Belgium                 25              0.476569\n",
       "Israel                  31              0.397141\n",
       "Bulgaria                3               0.317712\n",
       "Singapore               34              0.317712\n",
       "Russia                  11              0.238284\n",
       "Mexico                  12              0.238284\n",
       "Finland                 29              0.238284\n",
       "Austria                 16              0.238284\n",
       "Colombia                22              0.158856\n",
       "Denmark                 40              0.158856\n",
       "Greece                  42              0.158856\n",
       "Portugal                5               0.158856\n",
       "Croatia                 37              0.158856\n",
       "Spain                   28              0.079428\n",
       "Slovenia                14              0.079428\n",
       "Uruguay                 30              0.079428\n",
       "Romania                 24              0.079428\n",
       "Thailand                39              0.079428\n",
       "Japan                   35              0.079428\n",
       "Philippines             47              0.079428\n",
       "Norway                  38              0.079428\n",
       "Nigeria                 36              0.079428\n",
       "Moldova                 43              0.079428\n",
       "Latvia                  23              0.079428\n",
       "Hungary                 33              0.079428\n",
       "Georgia                 44              0.079428\n",
       "Czech Republic          46              0.079428\n",
       "Costa Rica              15              0.079428\n",
       "China                   45              0.079428\n",
       "Bosnia and Herzegovina  32              0.079428\n",
       "Bahamas, The            41              0.079428\n",
       "Zimbabwe                27              0.079428\n",
       "dtype: float64"
      ]
     },
     "execution_count": 40,
     "metadata": {},
     "output_type": "execute_result"
    }
   ],
   "source": [
    "# Country\n",
    "df[['Country','Country_num']].value_counts( normalize=True ) * 100"
   ]
  },
  {
   "cell_type": "code",
   "execution_count": 41,
   "metadata": {},
   "outputs": [
    {
     "data": {
      "text/plain": [
       "state_num  state       \n",
       "2          Not Informed    40.905481\n",
       "7          CA              10.961080\n",
       "15         WA               5.559968\n",
       "10         NY               4.527403\n",
       "4          TN               3.574265\n",
       "3          TX               3.494837\n",
       "6          OH               2.382844\n",
       "0          IL               2.303415\n",
       "19         OR               2.303415\n",
       "14         PA               2.303415\n",
       "1          IN               2.144559\n",
       "5          MI               1.747419\n",
       "21         MN               1.667990\n",
       "12         MA               1.588562\n",
       "20         FL               1.191422\n",
       "11         NC               1.111994\n",
       "31         VA               1.111994\n",
       "16         WI               0.953137\n",
       "25         GA               0.953137\n",
       "22         MO               0.953137\n",
       "17         UT               0.873709\n",
       "24         CO               0.714853\n",
       "9          MD               0.635425\n",
       "34         AL               0.635425\n",
       "23         AZ               0.555997\n",
       "29         OK               0.476569\n",
       "36         NJ               0.476569\n",
       "33         KY               0.397141\n",
       "37         SC               0.397141\n",
       "13         IA               0.317712\n",
       "8          CT               0.317712\n",
       "26         DC               0.317712\n",
       "35         NV               0.238284\n",
       "38         VT               0.238284\n",
       "39         SD               0.238284\n",
       "30         KS               0.238284\n",
       "32         NH               0.238284\n",
       "43         WY               0.158856\n",
       "18         NM               0.158856\n",
       "27         NE               0.158856\n",
       "28         WV               0.079428\n",
       "40         ID               0.079428\n",
       "41         MS               0.079428\n",
       "42         RI               0.079428\n",
       "44         LA               0.079428\n",
       "45         ME               0.079428\n",
       "dtype: float64"
      ]
     },
     "execution_count": 41,
     "metadata": {},
     "output_type": "execute_result"
    }
   ],
   "source": [
    "# state\n",
    "df[['state_num','state']].value_counts( normalize=True ) * 100"
   ]
  },
  {
   "cell_type": "code",
   "execution_count": 42,
   "metadata": {},
   "outputs": [
    {
     "data": {
      "text/plain": [
       "work_interfere_num  work_interfere\n",
       "3                   Sometimes         36.934075\n",
       "4                   Not Informed      20.969023\n",
       "2                   Never             16.918189\n",
       "1                   Rarely            13.741064\n",
       "0                   Often             11.437649\n",
       "dtype: float64"
      ]
     },
     "execution_count": 42,
     "metadata": {},
     "output_type": "execute_result"
    }
   ],
   "source": [
    "#Work interfere\n",
    "df[['work_interfere_num','work_interfere']].value_counts( normalize=True ) * 100"
   ]
  },
  {
   "cell_type": "code",
   "execution_count": 43,
   "metadata": {},
   "outputs": [
    {
     "data": {
      "text/plain": [
       "array(['6-25', 'More than 1000', '26-100', '100-500', '1-5', '500-1000'],\n",
       "      dtype=object)"
      ]
     },
     "execution_count": 43,
     "metadata": {},
     "output_type": "execute_result"
    }
   ],
   "source": [
    "df['no_employees'].unique()"
   ]
  },
  {
   "cell_type": "code",
   "execution_count": 44,
   "metadata": {},
   "outputs": [
    {
     "data": {
      "text/plain": [
       "no_employees_num  no_employees  \n",
       "3                 26-100            8.895949\n",
       "                  More than 1000    8.260524\n",
       "                  6-25              7.466243\n",
       "                  1-5               5.639396\n",
       "4                 6-25              5.639396\n",
       "3                 100-500           5.242256\n",
       "4                 More than 1000    4.845115\n",
       "                  26-100            4.765687\n",
       "2                 26-100            4.209690\n",
       "                  More than 1000    3.733122\n",
       "                  6-25              3.494837\n",
       "1                 More than 1000    3.415409\n",
       "                  6-25              3.256553\n",
       "0                 6-25              3.177125\n",
       "4                 100-500           2.859412\n",
       "0                 26-100            2.779984\n",
       "2                 100-500           2.382844\n",
       "1                 100-500           2.303415\n",
       "                  26-100            2.303415\n",
       "0                 More than 1000    2.144559\n",
       "                  1-5               2.065131\n",
       "2                 1-5               1.826847\n",
       "1                 1-5               1.747419\n",
       "4                 1-5               1.588562\n",
       "3                 500-1000          1.429706\n",
       "4                 500-1000          1.270850\n",
       "2                 500-1000          1.270850\n",
       "0                 100-500           1.191422\n",
       "1                 500-1000          0.714853\n",
       "0                 500-1000          0.079428\n",
       "dtype: float64"
      ]
     },
     "execution_count": 44,
     "metadata": {},
     "output_type": "execute_result"
    }
   ],
   "source": [
    "\n",
    "# no_employees\n",
    "df[['no_employees_num','no_employees']].value_counts( normalize=True ) * 100"
   ]
  },
  {
   "cell_type": "code",
   "execution_count": 45,
   "metadata": {},
   "outputs": [
    {
     "data": {
      "text/plain": [
       "leave_num  leave             \n",
       "1          Don't know            44.718030\n",
       "0          Somewhat easy         21.127879\n",
       "4          Very easy             16.362192\n",
       "2          Somewhat difficult    10.007943\n",
       "3          Very difficult         7.783956\n",
       "dtype: float64"
      ]
     },
     "execution_count": 45,
     "metadata": {},
     "output_type": "execute_result"
    }
   ],
   "source": [
    "# leave\n",
    "df[['leave_num','leave']].value_counts( normalize=True ) * 100"
   ]
  },
  {
   "cell_type": "code",
   "execution_count": 46,
   "metadata": {},
   "outputs": [
    {
     "data": {
      "text/plain": [
       "array([2, 1, 0], dtype=int64)"
      ]
     },
     "execution_count": 46,
     "metadata": {},
     "output_type": "execute_result"
    }
   ],
   "source": [
    "df['self_employed'].unique()"
   ]
  },
  {
   "cell_type": "markdown",
   "metadata": {},
   "source": [
    "### Target: treatment"
   ]
  },
  {
   "cell_type": "code",
   "execution_count": 47,
   "metadata": {},
   "outputs": [
    {
     "data": {
      "text/plain": [
       "1    50.595711\n",
       "0    49.404289\n",
       "Name: treatment, dtype: float64"
      ]
     },
     "execution_count": 47,
     "metadata": {},
     "output_type": "execute_result"
    }
   ],
   "source": [
    "df['treatment'].value_counts( normalize=True ) * 100"
   ]
  },
  {
   "cell_type": "code",
   "execution_count": 48,
   "metadata": {},
   "outputs": [
    {
     "data": {
      "text/plain": [
       "count    1259.000000\n",
       "mean        0.505957\n",
       "std         0.500163\n",
       "min         0.000000\n",
       "25%         0.000000\n",
       "50%         1.000000\n",
       "75%         1.000000\n",
       "max         1.000000\n",
       "Name: treatment, dtype: float64"
      ]
     },
     "execution_count": 48,
     "metadata": {},
     "output_type": "execute_result"
    }
   ],
   "source": [
    "df['treatment'].describe()"
   ]
  },
  {
   "cell_type": "code",
   "execution_count": 49,
   "metadata": {},
   "outputs": [
    {
     "data": {
      "text/plain": [
       "pandas.core.series.Series"
      ]
     },
     "execution_count": 49,
     "metadata": {},
     "output_type": "execute_result"
    }
   ],
   "source": [
    "type(df['treatment'])"
   ]
  },
  {
   "cell_type": "code",
   "execution_count": 50,
   "metadata": {},
   "outputs": [
    {
     "data": {
      "text/plain": [
       "0       1\n",
       "1       0\n",
       "2       0\n",
       "3       1\n",
       "4       0\n",
       "       ..\n",
       "1254    1\n",
       "1255    1\n",
       "1256    1\n",
       "1257    0\n",
       "1258    1\n",
       "Name: treatment, Length: 1259, dtype: int32"
      ]
     },
     "execution_count": 50,
     "metadata": {},
     "output_type": "execute_result"
    }
   ],
   "source": [
    "df['treatment'].astype('int')"
   ]
  },
  {
   "cell_type": "code",
   "execution_count": 51,
   "metadata": {},
   "outputs": [
    {
     "data": {
      "text/plain": [
       "Age                           int64\n",
       "Gender                        int64\n",
       "Country                      object\n",
       "state                        object\n",
       "self_employed                 int64\n",
       "family_history                int64\n",
       "treatment                     int64\n",
       "work_interfere               object\n",
       "no_employees                 object\n",
       "remote_work                   int64\n",
       "tech_company                  int64\n",
       "benefits                      int64\n",
       "care_options                  int64\n",
       "wellness_program              int64\n",
       "seek_help                     int64\n",
       "anonymity                     int64\n",
       "leave                        object\n",
       "mental_health_consequence     int64\n",
       "phys_health_consequence       int64\n",
       "coworkers                     int64\n",
       "supervisor                    int64\n",
       "mental_health_interview       int64\n",
       "phys_health_interview         int64\n",
       "mental_vs_physical            int64\n",
       "obs_consequence               int64\n",
       "Country_num                   int64\n",
       "state_num                     int64\n",
       "work_interfere_num            int64\n",
       "no_employees_num              int64\n",
       "leave_num                     int64\n",
       "dtype: object"
      ]
     },
     "execution_count": 51,
     "metadata": {},
     "output_type": "execute_result"
    }
   ],
   "source": [
    "df.dtypes"
   ]
  },
  {
   "cell_type": "code",
   "execution_count": 52,
   "metadata": {},
   "outputs": [],
   "source": [
    "numerical_columns = df.columns[df.dtypes != object ]"
   ]
  },
  {
   "cell_type": "code",
   "execution_count": 53,
   "metadata": {},
   "outputs": [
    {
     "data": {
      "text/plain": [
       "Index(['Age', 'Gender', 'self_employed', 'family_history', 'treatment',\n",
       "       'remote_work', 'tech_company', 'benefits', 'care_options',\n",
       "       'wellness_program', 'seek_help', 'anonymity',\n",
       "       'mental_health_consequence', 'phys_health_consequence', 'coworkers',\n",
       "       'supervisor', 'mental_health_interview', 'phys_health_interview',\n",
       "       'mental_vs_physical', 'obs_consequence', 'Country_num', 'state_num',\n",
       "       'work_interfere_num', 'no_employees_num', 'leave_num'],\n",
       "      dtype='object')"
      ]
     },
     "execution_count": 53,
     "metadata": {},
     "output_type": "execute_result"
    }
   ],
   "source": [
    "numerical_columns"
   ]
  },
  {
   "cell_type": "code",
   "execution_count": 54,
   "metadata": {},
   "outputs": [],
   "source": [
    "features = df[['Age', 'Gender', 'self_employed', 'family_history', 'treatment',\n",
    "       'remote_work', 'tech_company', 'benefits', 'care_options',\n",
    "       'wellness_program', 'seek_help', 'anonymity',\n",
    "       'mental_health_consequence', 'phys_health_consequence', 'coworkers',\n",
    "       'supervisor', 'mental_health_interview', 'phys_health_interview',\n",
    "       'mental_vs_physical', 'obs_consequence', 'Country_num', 'state_num',\n",
    "       'work_interfere_num', 'no_employees_num', 'leave_num']]"
   ]
  },
  {
   "cell_type": "code",
   "execution_count": 55,
   "metadata": {},
   "outputs": [],
   "source": [
    "df_features = features"
   ]
  },
  {
   "cell_type": "markdown",
   "metadata": {},
   "source": [
    "#### Z-score with StandardScaler"
   ]
  },
  {
   "cell_type": "code",
   "execution_count": 56,
   "metadata": {},
   "outputs": [
    {
     "data": {
      "text/plain": [
       "'from sklearn.preprocessing import StandardScaler\\n\\n# create a scaler object\\nstd_scaler = StandardScaler()\\nstd_scaler\\n# fit and transform the data\\nfeatures = pd.DataFrame(std_scaler.fit_transform(df_features), columns=df_features.columns)\\n\\nfeatures'"
      ]
     },
     "execution_count": 56,
     "metadata": {},
     "output_type": "execute_result"
    }
   ],
   "source": [
    "\"\"\"from sklearn.preprocessing import StandardScaler\n",
    "\n",
    "# create a scaler object\n",
    "std_scaler = StandardScaler()\n",
    "std_scaler\n",
    "# fit and transform the data\n",
    "features = pd.DataFrame(std_scaler.fit_transform(df_features), columns=df_features.columns)\n",
    "\n",
    "features\"\"\"\n"
   ]
  },
  {
   "cell_type": "markdown",
   "metadata": {},
   "source": [
    "#### Feature Visualization"
   ]
  },
  {
   "cell_type": "code",
   "execution_count": 57,
   "metadata": {},
   "outputs": [
    {
     "data": {
      "image/png": "[encoded data removed]",
      "text/plain": [
       "<Figure size 1440x2160 with 50 Axes>"
      ]
     },
     "metadata": {},
     "output_type": "display_data"
    }
   ],
   "source": [
    "# Grid Gráficos\n",
    "\n",
    "# Tamanho\n",
    "Figura, Eixo = plt.subplots( figsize=(20, 30) )\n",
    "\n",
    "# Cor de fundo\n",
    "Cor_fundo = '#f5f5f5'\n",
    "Figura.set_facecolor( Cor_fundo )\n",
    "\n",
    "# Paleta de cores\n",
    "paleta_cores = sns.color_palette('flare', len(numerical_columns) * 2)\n",
    "\n",
    "# Título\n",
    "plt.suptitle('Análise das variáveis numéricas', fontsize=22, color='#404040', fontweight=600)\n",
    "\n",
    "# Estrutura \n",
    "linhas =  26 # (Todas as infos. numéricas)\n",
    "colunas = 2 # (Boxplot - Distplot)\n",
    "posicao = 1 # Posição inicial do Grid\n",
    "\n",
    "#Loop para Plotar os dados\n",
    "for coluna in numerical_columns:\n",
    "    \n",
    "    #Plot no Grid -- Boxplot\n",
    "    # Título\n",
    "    plt.title( f'{coluna}', loc='left', fontsize=14, fontweight=200)\n",
    "    \n",
    "    plt.subplot( linhas, colunas, posicao )\n",
    "    \n",
    "    #Boxplot\n",
    "    sns.boxplot( data=features, y=coluna, showmeans=True, saturation=0.75, linewidth=1,\\\n",
    "                color=paleta_cores[posicao], width=0.25 )\n",
    "    posicao += 1\n",
    "        \n",
    "    # Título\n",
    "    plt.title( f'{coluna}', loc='left', fontsize=14, fontweight=200)\n",
    "\n",
    "    # Plot no Grid -- Distplot\n",
    "    plt.subplot( linhas, colunas, posicao )\n",
    "    \n",
    "    # Distplot\n",
    "    sns.distplot( features[coluna], color=paleta_cores[posicao-1] )\n",
    "\n",
    "    posicao += 1\n",
    "    \n",
    "# Ajuste de Grid\n",
    "plt.subplots_adjust( top=0.95, hspace=0.3 )"
   ]
  },
  {
   "cell_type": "code",
   "execution_count": 58,
   "metadata": {},
   "outputs": [],
   "source": [
    "## Drop Country_num and state\n",
    "features.drop([\"Country_num\"], axis=1, inplace=True)\n",
    "features.drop([\"state_num\"], axis=1, inplace=True)"
   ]
  },
  {
   "cell_type": "code",
   "execution_count": 59,
   "metadata": {},
   "outputs": [
    {
     "data": {
      "text/plain": [
       "Index(['Age', 'Gender', 'self_employed', 'family_history', 'treatment',\n",
       "       'remote_work', 'tech_company', 'benefits', 'care_options',\n",
       "       'wellness_program', 'seek_help', 'anonymity',\n",
       "       'mental_health_consequence', 'phys_health_consequence', 'coworkers',\n",
       "       'supervisor', 'mental_health_interview', 'phys_health_interview',\n",
       "       'mental_vs_physical', 'obs_consequence', 'work_interfere_num',\n",
       "       'no_employees_num', 'leave_num'],\n",
       "      dtype='object')"
      ]
     },
     "execution_count": 59,
     "metadata": {},
     "output_type": "execute_result"
    }
   ],
   "source": [
    "features.columns"
   ]
  },
  {
   "cell_type": "code",
   "execution_count": 60,
   "metadata": {},
   "outputs": [],
   "source": [
    "Y = features['treatment']\n",
    "x = features.drop(['treatment'], axis=1)"
   ]
  },
  {
   "cell_type": "code",
   "execution_count": 61,
   "metadata": {},
   "outputs": [
    {
     "data": {
      "text/plain": [
       "Index(['Age', 'Gender', 'self_employed', 'family_history', 'remote_work',\n",
       "       'tech_company', 'benefits', 'care_options', 'wellness_program',\n",
       "       'seek_help', 'anonymity', 'mental_health_consequence',\n",
       "       'phys_health_consequence', 'coworkers', 'supervisor',\n",
       "       'mental_health_interview', 'phys_health_interview',\n",
       "       'mental_vs_physical', 'obs_consequence', 'work_interfere_num',\n",
       "       'no_employees_num', 'leave_num'],\n",
       "      dtype='object')"
      ]
     },
     "execution_count": 61,
     "metadata": {},
     "output_type": "execute_result"
    }
   ],
   "source": [
    "x.columns"
   ]
  },
  {
   "cell_type": "markdown",
   "metadata": {},
   "source": [
    "#### Correlação dos dados"
   ]
  },
  {
   "cell_type": "code",
   "execution_count": 62,
   "metadata": {},
   "outputs": [
    {
     "data": {
      "text/html": [
       "<div>\n",
       "<style scoped>\n",
       "    .dataframe tbody tr th:only-of-type {\n",
       "        vertical-align: middle;\n",
       "    }\n",
       "\n",
       "    .dataframe tbody tr th {\n",
       "        vertical-align: top;\n",
       "    }\n",
       "\n",
       "    .dataframe thead th {\n",
       "        text-align: right;\n",
       "    }\n",
       "</style>\n",
       "<table border=\"1\" class=\"dataframe\">\n",
       "  <thead>\n",
       "    <tr style=\"text-align: right;\">\n",
       "      <th></th>\n",
       "      <th>Age</th>\n",
       "      <th>Gender</th>\n",
       "      <th>self_employed</th>\n",
       "      <th>family_history</th>\n",
       "      <th>treatment</th>\n",
       "      <th>remote_work</th>\n",
       "      <th>tech_company</th>\n",
       "      <th>benefits</th>\n",
       "      <th>care_options</th>\n",
       "      <th>wellness_program</th>\n",
       "      <th>...</th>\n",
       "      <th>phys_health_consequence</th>\n",
       "      <th>coworkers</th>\n",
       "      <th>supervisor</th>\n",
       "      <th>mental_health_interview</th>\n",
       "      <th>phys_health_interview</th>\n",
       "      <th>mental_vs_physical</th>\n",
       "      <th>obs_consequence</th>\n",
       "      <th>work_interfere_num</th>\n",
       "      <th>no_employees_num</th>\n",
       "      <th>leave_num</th>\n",
       "    </tr>\n",
       "  </thead>\n",
       "  <tbody>\n",
       "    <tr>\n",
       "      <th>Age</th>\n",
       "      <td>1.000000</td>\n",
       "      <td>0.063175</td>\n",
       "      <td>0.069027</td>\n",
       "      <td>0.009103</td>\n",
       "      <td>0.073165</td>\n",
       "      <td>0.145461</td>\n",
       "      <td>-0.057668</td>\n",
       "      <td>-0.046428</td>\n",
       "      <td>0.012181</td>\n",
       "      <td>0.034519</td>\n",
       "      <td>...</td>\n",
       "      <td>0.094140</td>\n",
       "      <td>-0.014859</td>\n",
       "      <td>-0.009119</td>\n",
       "      <td>-0.059614</td>\n",
       "      <td>-0.029038</td>\n",
       "      <td>-0.013077</td>\n",
       "      <td>0.070011</td>\n",
       "      <td>-0.036226</td>\n",
       "      <td>-0.036226</td>\n",
       "      <td>-0.000009</td>\n",
       "    </tr>\n",
       "    <tr>\n",
       "      <th>Gender</th>\n",
       "      <td>0.063175</td>\n",
       "      <td>1.000000</td>\n",
       "      <td>0.041868</td>\n",
       "      <td>-0.117551</td>\n",
       "      <td>-0.134297</td>\n",
       "      <td>0.015624</td>\n",
       "      <td>0.062883</td>\n",
       "      <td>-0.046936</td>\n",
       "      <td>-0.059618</td>\n",
       "      <td>-0.057196</td>\n",
       "      <td>...</td>\n",
       "      <td>-0.037210</td>\n",
       "      <td>-0.005948</td>\n",
       "      <td>-0.003118</td>\n",
       "      <td>0.107103</td>\n",
       "      <td>0.101265</td>\n",
       "      <td>-0.028311</td>\n",
       "      <td>-0.014100</td>\n",
       "      <td>0.020695</td>\n",
       "      <td>0.020695</td>\n",
       "      <td>0.066019</td>\n",
       "    </tr>\n",
       "    <tr>\n",
       "      <th>self_employed</th>\n",
       "      <td>0.069027</td>\n",
       "      <td>0.041868</td>\n",
       "      <td>1.000000</td>\n",
       "      <td>0.007830</td>\n",
       "      <td>0.015943</td>\n",
       "      <td>0.265288</td>\n",
       "      <td>0.079074</td>\n",
       "      <td>-0.165179</td>\n",
       "      <td>0.005232</td>\n",
       "      <td>-0.009507</td>\n",
       "      <td>...</td>\n",
       "      <td>-0.014153</td>\n",
       "      <td>0.006784</td>\n",
       "      <td>-0.002079</td>\n",
       "      <td>0.100055</td>\n",
       "      <td>0.041728</td>\n",
       "      <td>-0.034531</td>\n",
       "      <td>0.059935</td>\n",
       "      <td>-0.076510</td>\n",
       "      <td>-0.076510</td>\n",
       "      <td>0.094700</td>\n",
       "    </tr>\n",
       "    <tr>\n",
       "      <th>family_history</th>\n",
       "      <td>0.009103</td>\n",
       "      <td>-0.117551</td>\n",
       "      <td>0.007830</td>\n",
       "      <td>1.000000</td>\n",
       "      <td>0.377918</td>\n",
       "      <td>0.014456</td>\n",
       "      <td>-0.046079</td>\n",
       "      <td>0.003541</td>\n",
       "      <td>0.010452</td>\n",
       "      <td>-0.018524</td>\n",
       "      <td>...</td>\n",
       "      <td>0.038976</td>\n",
       "      <td>-0.013811</td>\n",
       "      <td>-0.000416</td>\n",
       "      <td>-0.065201</td>\n",
       "      <td>-0.062747</td>\n",
       "      <td>-0.094343</td>\n",
       "      <td>0.124861</td>\n",
       "      <td>-0.144196</td>\n",
       "      <td>-0.144196</td>\n",
       "      <td>0.011632</td>\n",
       "    </tr>\n",
       "    <tr>\n",
       "      <th>treatment</th>\n",
       "      <td>0.073165</td>\n",
       "      <td>-0.134297</td>\n",
       "      <td>0.015943</td>\n",
       "      <td>0.377918</td>\n",
       "      <td>1.000000</td>\n",
       "      <td>0.026937</td>\n",
       "      <td>-0.031525</td>\n",
       "      <td>-0.095206</td>\n",
       "      <td>0.021324</td>\n",
       "      <td>-0.017388</td>\n",
       "      <td>...</td>\n",
       "      <td>0.040135</td>\n",
       "      <td>0.021477</td>\n",
       "      <td>-0.010855</td>\n",
       "      <td>-0.088566</td>\n",
       "      <td>-0.036177</td>\n",
       "      <td>-0.117235</td>\n",
       "      <td>0.156972</td>\n",
       "      <td>-0.338003</td>\n",
       "      <td>-0.338003</td>\n",
       "      <td>0.062590</td>\n",
       "    </tr>\n",
       "    <tr>\n",
       "      <th>remote_work</th>\n",
       "      <td>0.145461</td>\n",
       "      <td>0.015624</td>\n",
       "      <td>0.265288</td>\n",
       "      <td>0.014456</td>\n",
       "      <td>0.026937</td>\n",
       "      <td>1.000000</td>\n",
       "      <td>0.131108</td>\n",
       "      <td>-0.037797</td>\n",
       "      <td>-0.020088</td>\n",
       "      <td>0.012462</td>\n",
       "      <td>...</td>\n",
       "      <td>0.022505</td>\n",
       "      <td>0.018220</td>\n",
       "      <td>-0.025233</td>\n",
       "      <td>0.074701</td>\n",
       "      <td>0.037884</td>\n",
       "      <td>0.036538</td>\n",
       "      <td>-0.039065</td>\n",
       "      <td>-0.037966</td>\n",
       "      <td>-0.037966</td>\n",
       "      <td>0.095119</td>\n",
       "    </tr>\n",
       "    <tr>\n",
       "      <th>tech_company</th>\n",
       "      <td>-0.057668</td>\n",
       "      <td>0.062883</td>\n",
       "      <td>0.079074</td>\n",
       "      <td>-0.046079</td>\n",
       "      <td>-0.031525</td>\n",
       "      <td>0.131108</td>\n",
       "      <td>1.000000</td>\n",
       "      <td>-0.041486</td>\n",
       "      <td>0.000352</td>\n",
       "      <td>-0.031858</td>\n",
       "      <td>...</td>\n",
       "      <td>-0.070048</td>\n",
       "      <td>0.018057</td>\n",
       "      <td>0.016697</td>\n",
       "      <td>0.079750</td>\n",
       "      <td>0.027772</td>\n",
       "      <td>0.076191</td>\n",
       "      <td>-0.062347</td>\n",
       "      <td>0.032920</td>\n",
       "      <td>0.032920</td>\n",
       "      <td>0.033830</td>\n",
       "    </tr>\n",
       "    <tr>\n",
       "      <th>benefits</th>\n",
       "      <td>-0.046428</td>\n",
       "      <td>-0.046936</td>\n",
       "      <td>-0.165179</td>\n",
       "      <td>0.003541</td>\n",
       "      <td>-0.095206</td>\n",
       "      <td>-0.037797</td>\n",
       "      <td>-0.041486</td>\n",
       "      <td>1.000000</td>\n",
       "      <td>0.229613</td>\n",
       "      <td>0.240593</td>\n",
       "      <td>...</td>\n",
       "      <td>-0.096849</td>\n",
       "      <td>0.071192</td>\n",
       "      <td>-0.016870</td>\n",
       "      <td>0.019712</td>\n",
       "      <td>0.001610</td>\n",
       "      <td>0.177691</td>\n",
       "      <td>-0.111243</td>\n",
       "      <td>0.081203</td>\n",
       "      <td>0.081203</td>\n",
       "      <td>-0.093878</td>\n",
       "    </tr>\n",
       "    <tr>\n",
       "      <th>care_options</th>\n",
       "      <td>0.012181</td>\n",
       "      <td>-0.059618</td>\n",
       "      <td>0.005232</td>\n",
       "      <td>0.010452</td>\n",
       "      <td>0.021324</td>\n",
       "      <td>-0.020088</td>\n",
       "      <td>0.000352</td>\n",
       "      <td>0.229613</td>\n",
       "      <td>1.000000</td>\n",
       "      <td>0.261628</td>\n",
       "      <td>...</td>\n",
       "      <td>-0.002238</td>\n",
       "      <td>0.033948</td>\n",
       "      <td>0.093730</td>\n",
       "      <td>0.004062</td>\n",
       "      <td>-0.030221</td>\n",
       "      <td>0.038692</td>\n",
       "      <td>-0.018967</td>\n",
       "      <td>-0.010231</td>\n",
       "      <td>-0.010231</td>\n",
       "      <td>0.013526</td>\n",
       "    </tr>\n",
       "    <tr>\n",
       "      <th>wellness_program</th>\n",
       "      <td>0.034519</td>\n",
       "      <td>-0.057196</td>\n",
       "      <td>-0.009507</td>\n",
       "      <td>-0.018524</td>\n",
       "      <td>-0.017388</td>\n",
       "      <td>0.012462</td>\n",
       "      <td>-0.031858</td>\n",
       "      <td>0.240593</td>\n",
       "      <td>0.261628</td>\n",
       "      <td>1.000000</td>\n",
       "      <td>...</td>\n",
       "      <td>-0.045012</td>\n",
       "      <td>0.058339</td>\n",
       "      <td>0.101564</td>\n",
       "      <td>0.065797</td>\n",
       "      <td>-0.061410</td>\n",
       "      <td>0.100025</td>\n",
       "      <td>-0.034676</td>\n",
       "      <td>0.035645</td>\n",
       "      <td>0.035645</td>\n",
       "      <td>-0.008681</td>\n",
       "    </tr>\n",
       "    <tr>\n",
       "      <th>seek_help</th>\n",
       "      <td>0.036320</td>\n",
       "      <td>-0.050854</td>\n",
       "      <td>-0.084777</td>\n",
       "      <td>0.008627</td>\n",
       "      <td>-0.025326</td>\n",
       "      <td>-0.010980</td>\n",
       "      <td>-0.062480</td>\n",
       "      <td>0.408048</td>\n",
       "      <td>0.251500</td>\n",
       "      <td>0.472868</td>\n",
       "      <td>...</td>\n",
       "      <td>-0.063821</td>\n",
       "      <td>0.023267</td>\n",
       "      <td>0.048173</td>\n",
       "      <td>0.010960</td>\n",
       "      <td>-0.029234</td>\n",
       "      <td>0.161978</td>\n",
       "      <td>-0.095072</td>\n",
       "      <td>0.049323</td>\n",
       "      <td>0.049323</td>\n",
       "      <td>-0.056226</td>\n",
       "    </tr>\n",
       "    <tr>\n",
       "      <th>anonymity</th>\n",
       "      <td>0.000802</td>\n",
       "      <td>0.006745</td>\n",
       "      <td>-0.107663</td>\n",
       "      <td>-0.076809</td>\n",
       "      <td>-0.131448</td>\n",
       "      <td>0.008345</td>\n",
       "      <td>0.061751</td>\n",
       "      <td>0.248869</td>\n",
       "      <td>0.032551</td>\n",
       "      <td>0.014044</td>\n",
       "      <td>...</td>\n",
       "      <td>0.022092</td>\n",
       "      <td>0.053890</td>\n",
       "      <td>0.038413</td>\n",
       "      <td>-0.007769</td>\n",
       "      <td>-0.009088</td>\n",
       "      <td>0.190007</td>\n",
       "      <td>-0.131191</td>\n",
       "      <td>0.068470</td>\n",
       "      <td>0.068470</td>\n",
       "      <td>-0.188091</td>\n",
       "    </tr>\n",
       "    <tr>\n",
       "      <th>mental_health_consequence</th>\n",
       "      <td>0.036305</td>\n",
       "      <td>-0.067198</td>\n",
       "      <td>-0.090871</td>\n",
       "      <td>0.061449</td>\n",
       "      <td>0.089877</td>\n",
       "      <td>-0.055684</td>\n",
       "      <td>-0.102039</td>\n",
       "      <td>-0.005350</td>\n",
       "      <td>-0.037746</td>\n",
       "      <td>-0.100071</td>\n",
       "      <td>...</td>\n",
       "      <td>0.329222</td>\n",
       "      <td>-0.004137</td>\n",
       "      <td>-0.052489</td>\n",
       "      <td>-0.240083</td>\n",
       "      <td>-0.031110</td>\n",
       "      <td>0.000476</td>\n",
       "      <td>0.086979</td>\n",
       "      <td>-0.037339</td>\n",
       "      <td>-0.037339</td>\n",
       "      <td>-0.148967</td>\n",
       "    </tr>\n",
       "    <tr>\n",
       "      <th>phys_health_consequence</th>\n",
       "      <td>0.094140</td>\n",
       "      <td>-0.037210</td>\n",
       "      <td>-0.014153</td>\n",
       "      <td>0.038976</td>\n",
       "      <td>0.040135</td>\n",
       "      <td>0.022505</td>\n",
       "      <td>-0.070048</td>\n",
       "      <td>-0.096849</td>\n",
       "      <td>-0.002238</td>\n",
       "      <td>-0.045012</td>\n",
       "      <td>...</td>\n",
       "      <td>1.000000</td>\n",
       "      <td>-0.099535</td>\n",
       "      <td>-0.059179</td>\n",
       "      <td>-0.108873</td>\n",
       "      <td>-0.042502</td>\n",
       "      <td>-0.065566</td>\n",
       "      <td>0.139502</td>\n",
       "      <td>-0.001125</td>\n",
       "      <td>-0.001125</td>\n",
       "      <td>-0.048549</td>\n",
       "    </tr>\n",
       "    <tr>\n",
       "      <th>coworkers</th>\n",
       "      <td>-0.014859</td>\n",
       "      <td>-0.005948</td>\n",
       "      <td>0.006784</td>\n",
       "      <td>-0.013811</td>\n",
       "      <td>0.021477</td>\n",
       "      <td>0.018220</td>\n",
       "      <td>0.018057</td>\n",
       "      <td>0.071192</td>\n",
       "      <td>0.033948</td>\n",
       "      <td>0.058339</td>\n",
       "      <td>...</td>\n",
       "      <td>-0.099535</td>\n",
       "      <td>1.000000</td>\n",
       "      <td>0.330738</td>\n",
       "      <td>0.098387</td>\n",
       "      <td>0.023309</td>\n",
       "      <td>0.006666</td>\n",
       "      <td>0.021899</td>\n",
       "      <td>0.032200</td>\n",
       "      <td>0.032200</td>\n",
       "      <td>-0.031510</td>\n",
       "    </tr>\n",
       "    <tr>\n",
       "      <th>supervisor</th>\n",
       "      <td>-0.009119</td>\n",
       "      <td>-0.003118</td>\n",
       "      <td>-0.002079</td>\n",
       "      <td>-0.000416</td>\n",
       "      <td>-0.010855</td>\n",
       "      <td>-0.025233</td>\n",
       "      <td>0.016697</td>\n",
       "      <td>-0.016870</td>\n",
       "      <td>0.093730</td>\n",
       "      <td>0.101564</td>\n",
       "      <td>...</td>\n",
       "      <td>-0.059179</td>\n",
       "      <td>0.330738</td>\n",
       "      <td>1.000000</td>\n",
       "      <td>0.119799</td>\n",
       "      <td>0.030474</td>\n",
       "      <td>0.061019</td>\n",
       "      <td>0.006693</td>\n",
       "      <td>-0.003922</td>\n",
       "      <td>-0.003922</td>\n",
       "      <td>-0.018454</td>\n",
       "    </tr>\n",
       "    <tr>\n",
       "      <th>mental_health_interview</th>\n",
       "      <td>-0.059614</td>\n",
       "      <td>0.107103</td>\n",
       "      <td>0.100055</td>\n",
       "      <td>-0.065201</td>\n",
       "      <td>-0.088566</td>\n",
       "      <td>0.074701</td>\n",
       "      <td>0.079750</td>\n",
       "      <td>0.019712</td>\n",
       "      <td>0.004062</td>\n",
       "      <td>0.065797</td>\n",
       "      <td>...</td>\n",
       "      <td>-0.108873</td>\n",
       "      <td>0.098387</td>\n",
       "      <td>0.119799</td>\n",
       "      <td>1.000000</td>\n",
       "      <td>0.292506</td>\n",
       "      <td>0.025693</td>\n",
       "      <td>-0.086920</td>\n",
       "      <td>0.011214</td>\n",
       "      <td>0.011214</td>\n",
       "      <td>0.062184</td>\n",
       "    </tr>\n",
       "    <tr>\n",
       "      <th>phys_health_interview</th>\n",
       "      <td>-0.029038</td>\n",
       "      <td>0.101265</td>\n",
       "      <td>0.041728</td>\n",
       "      <td>-0.062747</td>\n",
       "      <td>-0.036177</td>\n",
       "      <td>0.037884</td>\n",
       "      <td>0.027772</td>\n",
       "      <td>0.001610</td>\n",
       "      <td>-0.030221</td>\n",
       "      <td>-0.061410</td>\n",
       "      <td>...</td>\n",
       "      <td>-0.042502</td>\n",
       "      <td>0.023309</td>\n",
       "      <td>0.030474</td>\n",
       "      <td>0.292506</td>\n",
       "      <td>1.000000</td>\n",
       "      <td>-0.086242</td>\n",
       "      <td>0.021301</td>\n",
       "      <td>-0.010954</td>\n",
       "      <td>-0.010954</td>\n",
       "      <td>0.025482</td>\n",
       "    </tr>\n",
       "    <tr>\n",
       "      <th>mental_vs_physical</th>\n",
       "      <td>-0.013077</td>\n",
       "      <td>-0.028311</td>\n",
       "      <td>-0.034531</td>\n",
       "      <td>-0.094343</td>\n",
       "      <td>-0.117235</td>\n",
       "      <td>0.036538</td>\n",
       "      <td>0.076191</td>\n",
       "      <td>0.177691</td>\n",
       "      <td>0.038692</td>\n",
       "      <td>0.100025</td>\n",
       "      <td>...</td>\n",
       "      <td>-0.065566</td>\n",
       "      <td>0.006666</td>\n",
       "      <td>0.061019</td>\n",
       "      <td>0.025693</td>\n",
       "      <td>-0.086242</td>\n",
       "      <td>1.000000</td>\n",
       "      <td>-0.244515</td>\n",
       "      <td>0.046640</td>\n",
       "      <td>0.046640</td>\n",
       "      <td>-0.157096</td>\n",
       "    </tr>\n",
       "    <tr>\n",
       "      <th>obs_consequence</th>\n",
       "      <td>0.070011</td>\n",
       "      <td>-0.014100</td>\n",
       "      <td>0.059935</td>\n",
       "      <td>0.124861</td>\n",
       "      <td>0.156972</td>\n",
       "      <td>-0.039065</td>\n",
       "      <td>-0.062347</td>\n",
       "      <td>-0.111243</td>\n",
       "      <td>-0.018967</td>\n",
       "      <td>-0.034676</td>\n",
       "      <td>...</td>\n",
       "      <td>0.139502</td>\n",
       "      <td>0.021899</td>\n",
       "      <td>0.006693</td>\n",
       "      <td>-0.086920</td>\n",
       "      <td>0.021301</td>\n",
       "      <td>-0.244515</td>\n",
       "      <td>1.000000</td>\n",
       "      <td>-0.101880</td>\n",
       "      <td>-0.101880</td>\n",
       "      <td>0.054330</td>\n",
       "    </tr>\n",
       "    <tr>\n",
       "      <th>work_interfere_num</th>\n",
       "      <td>-0.036226</td>\n",
       "      <td>0.020695</td>\n",
       "      <td>-0.076510</td>\n",
       "      <td>-0.144196</td>\n",
       "      <td>-0.338003</td>\n",
       "      <td>-0.037966</td>\n",
       "      <td>0.032920</td>\n",
       "      <td>0.081203</td>\n",
       "      <td>-0.010231</td>\n",
       "      <td>0.035645</td>\n",
       "      <td>...</td>\n",
       "      <td>-0.001125</td>\n",
       "      <td>0.032200</td>\n",
       "      <td>-0.003922</td>\n",
       "      <td>0.011214</td>\n",
       "      <td>-0.010954</td>\n",
       "      <td>0.046640</td>\n",
       "      <td>-0.101880</td>\n",
       "      <td>1.000000</td>\n",
       "      <td>1.000000</td>\n",
       "      <td>-0.011030</td>\n",
       "    </tr>\n",
       "    <tr>\n",
       "      <th>no_employees_num</th>\n",
       "      <td>-0.036226</td>\n",
       "      <td>0.020695</td>\n",
       "      <td>-0.076510</td>\n",
       "      <td>-0.144196</td>\n",
       "      <td>-0.338003</td>\n",
       "      <td>-0.037966</td>\n",
       "      <td>0.032920</td>\n",
       "      <td>0.081203</td>\n",
       "      <td>-0.010231</td>\n",
       "      <td>0.035645</td>\n",
       "      <td>...</td>\n",
       "      <td>-0.001125</td>\n",
       "      <td>0.032200</td>\n",
       "      <td>-0.003922</td>\n",
       "      <td>0.011214</td>\n",
       "      <td>-0.010954</td>\n",
       "      <td>0.046640</td>\n",
       "      <td>-0.101880</td>\n",
       "      <td>1.000000</td>\n",
       "      <td>1.000000</td>\n",
       "      <td>-0.011030</td>\n",
       "    </tr>\n",
       "    <tr>\n",
       "      <th>leave_num</th>\n",
       "      <td>-0.000009</td>\n",
       "      <td>0.066019</td>\n",
       "      <td>0.094700</td>\n",
       "      <td>0.011632</td>\n",
       "      <td>0.062590</td>\n",
       "      <td>0.095119</td>\n",
       "      <td>0.033830</td>\n",
       "      <td>-0.093878</td>\n",
       "      <td>0.013526</td>\n",
       "      <td>-0.008681</td>\n",
       "      <td>...</td>\n",
       "      <td>-0.048549</td>\n",
       "      <td>-0.031510</td>\n",
       "      <td>-0.018454</td>\n",
       "      <td>0.062184</td>\n",
       "      <td>0.025482</td>\n",
       "      <td>-0.157096</td>\n",
       "      <td>0.054330</td>\n",
       "      <td>-0.011030</td>\n",
       "      <td>-0.011030</td>\n",
       "      <td>1.000000</td>\n",
       "    </tr>\n",
       "  </tbody>\n",
       "</table>\n",
       "<p>23 rows × 23 columns</p>\n",
       "</div>"
      ],
      "text/plain": [
       "                                Age    Gender  self_employed  family_history  \\\n",
       "Age                        1.000000  0.063175       0.069027        0.009103   \n",
       "Gender                     0.063175  1.000000       0.041868       -0.117551   \n",
       "self_employed              0.069027  0.041868       1.000000        0.007830   \n",
       "family_history             0.009103 -0.117551       0.007830        1.000000   \n",
       "treatment                  0.073165 -0.134297       0.015943        0.377918   \n",
       "remote_work                0.145461  0.015624       0.265288        0.014456   \n",
       "tech_company              -0.057668  0.062883       0.079074       -0.046079   \n",
       "benefits                  -0.046428 -0.046936      -0.165179        0.003541   \n",
       "care_options               0.012181 -0.059618       0.005232        0.010452   \n",
       "wellness_program           0.034519 -0.057196      -0.009507       -0.018524   \n",
       "seek_help                  0.036320 -0.050854      -0.084777        0.008627   \n",
       "anonymity                  0.000802  0.006745      -0.107663       -0.076809   \n",
       "mental_health_consequence  0.036305 -0.067198      -0.090871        0.061449   \n",
       "phys_health_consequence    0.094140 -0.037210      -0.014153        0.038976   \n",
       "coworkers                 -0.014859 -0.005948       0.006784       -0.013811   \n",
       "supervisor                -0.009119 -0.003118      -0.002079       -0.000416   \n",
       "mental_health_interview   -0.059614  0.107103       0.100055       -0.065201   \n",
       "phys_health_interview     -0.029038  0.101265       0.041728       -0.062747   \n",
       "mental_vs_physical        -0.013077 -0.028311      -0.034531       -0.094343   \n",
       "obs_consequence            0.070011 -0.014100       0.059935        0.124861   \n",
       "work_interfere_num        -0.036226  0.020695      -0.076510       -0.144196   \n",
       "no_employees_num          -0.036226  0.020695      -0.076510       -0.144196   \n",
       "leave_num                 -0.000009  0.066019       0.094700        0.011632   \n",
       "\n",
       "                           treatment  remote_work  tech_company  benefits  \\\n",
       "Age                         0.073165     0.145461     -0.057668 -0.046428   \n",
       "Gender                     -0.134297     0.015624      0.062883 -0.046936   \n",
       "self_employed               0.015943     0.265288      0.079074 -0.165179   \n",
       "family_history              0.377918     0.014456     -0.046079  0.003541   \n",
       "treatment                   1.000000     0.026937     -0.031525 -0.095206   \n",
       "remote_work                 0.026937     1.000000      0.131108 -0.037797   \n",
       "tech_company               -0.031525     0.131108      1.000000 -0.041486   \n",
       "benefits                   -0.095206    -0.037797     -0.041486  1.000000   \n",
       "care_options                0.021324    -0.020088      0.000352  0.229613   \n",
       "wellness_program           -0.017388     0.012462     -0.031858  0.240593   \n",
       "seek_help                  -0.025326    -0.010980     -0.062480  0.408048   \n",
       "anonymity                  -0.131448     0.008345      0.061751  0.248869   \n",
       "mental_health_consequence   0.089877    -0.055684     -0.102039 -0.005350   \n",
       "phys_health_consequence     0.040135     0.022505     -0.070048 -0.096849   \n",
       "coworkers                   0.021477     0.018220      0.018057  0.071192   \n",
       "supervisor                 -0.010855    -0.025233      0.016697 -0.016870   \n",
       "mental_health_interview    -0.088566     0.074701      0.079750  0.019712   \n",
       "phys_health_interview      -0.036177     0.037884      0.027772  0.001610   \n",
       "mental_vs_physical         -0.117235     0.036538      0.076191  0.177691   \n",
       "obs_consequence             0.156972    -0.039065     -0.062347 -0.111243   \n",
       "work_interfere_num         -0.338003    -0.037966      0.032920  0.081203   \n",
       "no_employees_num           -0.338003    -0.037966      0.032920  0.081203   \n",
       "leave_num                   0.062590     0.095119      0.033830 -0.093878   \n",
       "\n",
       "                           care_options  wellness_program  ...  \\\n",
       "Age                            0.012181          0.034519  ...   \n",
       "Gender                        -0.059618         -0.057196  ...   \n",
       "self_employed                  0.005232         -0.009507  ...   \n",
       "family_history                 0.010452         -0.018524  ...   \n",
       "treatment                      0.021324         -0.017388  ...   \n",
       "remote_work                   -0.020088          0.012462  ...   \n",
       "tech_company                   0.000352         -0.031858  ...   \n",
       "benefits                       0.229613          0.240593  ...   \n",
       "care_options                   1.000000          0.261628  ...   \n",
       "wellness_program               0.261628          1.000000  ...   \n",
       "seek_help                      0.251500          0.472868  ...   \n",
       "anonymity                      0.032551          0.014044  ...   \n",
       "mental_health_consequence     -0.037746         -0.100071  ...   \n",
       "phys_health_consequence       -0.002238         -0.045012  ...   \n",
       "coworkers                      0.033948          0.058339  ...   \n",
       "supervisor                     0.093730          0.101564  ...   \n",
       "mental_health_interview        0.004062          0.065797  ...   \n",
       "phys_health_interview         -0.030221         -0.061410  ...   \n",
       "mental_vs_physical             0.038692          0.100025  ...   \n",
       "obs_consequence               -0.018967         -0.034676  ...   \n",
       "work_interfere_num            -0.010231          0.035645  ...   \n",
       "no_employees_num              -0.010231          0.035645  ...   \n",
       "leave_num                      0.013526         -0.008681  ...   \n",
       "\n",
       "                           phys_health_consequence  coworkers  supervisor  \\\n",
       "Age                                       0.094140  -0.014859   -0.009119   \n",
       "Gender                                   -0.037210  -0.005948   -0.003118   \n",
       "self_employed                            -0.014153   0.006784   -0.002079   \n",
       "family_history                            0.038976  -0.013811   -0.000416   \n",
       "treatment                                 0.040135   0.021477   -0.010855   \n",
       "remote_work                               0.022505   0.018220   -0.025233   \n",
       "tech_company                             -0.070048   0.018057    0.016697   \n",
       "benefits                                 -0.096849   0.071192   -0.016870   \n",
       "care_options                             -0.002238   0.033948    0.093730   \n",
       "wellness_program                         -0.045012   0.058339    0.101564   \n",
       "seek_help                                -0.063821   0.023267    0.048173   \n",
       "anonymity                                 0.022092   0.053890    0.038413   \n",
       "mental_health_consequence                 0.329222  -0.004137   -0.052489   \n",
       "phys_health_consequence                   1.000000  -0.099535   -0.059179   \n",
       "coworkers                                -0.099535   1.000000    0.330738   \n",
       "supervisor                               -0.059179   0.330738    1.000000   \n",
       "mental_health_interview                  -0.108873   0.098387    0.119799   \n",
       "phys_health_interview                    -0.042502   0.023309    0.030474   \n",
       "mental_vs_physical                       -0.065566   0.006666    0.061019   \n",
       "obs_consequence                           0.139502   0.021899    0.006693   \n",
       "work_interfere_num                       -0.001125   0.032200   -0.003922   \n",
       "no_employees_num                         -0.001125   0.032200   -0.003922   \n",
       "leave_num                                -0.048549  -0.031510   -0.018454   \n",
       "\n",
       "                           mental_health_interview  phys_health_interview  \\\n",
       "Age                                      -0.059614              -0.029038   \n",
       "Gender                                    0.107103               0.101265   \n",
       "self_employed                             0.100055               0.041728   \n",
       "family_history                           -0.065201              -0.062747   \n",
       "treatment                                -0.088566              -0.036177   \n",
       "remote_work                               0.074701               0.037884   \n",
       "tech_company                              0.079750               0.027772   \n",
       "benefits                                  0.019712               0.001610   \n",
       "care_options                              0.004062              -0.030221   \n",
       "wellness_program                          0.065797              -0.061410   \n",
       "seek_help                                 0.010960              -0.029234   \n",
       "anonymity                                -0.007769              -0.009088   \n",
       "mental_health_consequence                -0.240083              -0.031110   \n",
       "phys_health_consequence                  -0.108873              -0.042502   \n",
       "coworkers                                 0.098387               0.023309   \n",
       "supervisor                                0.119799               0.030474   \n",
       "mental_health_interview                   1.000000               0.292506   \n",
       "phys_health_interview                     0.292506               1.000000   \n",
       "mental_vs_physical                        0.025693              -0.086242   \n",
       "obs_consequence                          -0.086920               0.021301   \n",
       "work_interfere_num                        0.011214              -0.010954   \n",
       "no_employees_num                          0.011214              -0.010954   \n",
       "leave_num                                 0.062184               0.025482   \n",
       "\n",
       "                           mental_vs_physical  obs_consequence  \\\n",
       "Age                                 -0.013077         0.070011   \n",
       "Gender                              -0.028311        -0.014100   \n",
       "self_employed                       -0.034531         0.059935   \n",
       "family_history                      -0.094343         0.124861   \n",
       "treatment                           -0.117235         0.156972   \n",
       "remote_work                          0.036538        -0.039065   \n",
       "tech_company                         0.076191        -0.062347   \n",
       "benefits                             0.177691        -0.111243   \n",
       "care_options                         0.038692        -0.018967   \n",
       "wellness_program                     0.100025        -0.034676   \n",
       "seek_help                            0.161978        -0.095072   \n",
       "anonymity                            0.190007        -0.131191   \n",
       "mental_health_consequence            0.000476         0.086979   \n",
       "phys_health_consequence             -0.065566         0.139502   \n",
       "coworkers                            0.006666         0.021899   \n",
       "supervisor                           0.061019         0.006693   \n",
       "mental_health_interview              0.025693        -0.086920   \n",
       "phys_health_interview               -0.086242         0.021301   \n",
       "mental_vs_physical                   1.000000        -0.244515   \n",
       "obs_consequence                     -0.244515         1.000000   \n",
       "work_interfere_num                   0.046640        -0.101880   \n",
       "no_employees_num                     0.046640        -0.101880   \n",
       "leave_num                           -0.157096         0.054330   \n",
       "\n",
       "                           work_interfere_num  no_employees_num  leave_num  \n",
       "Age                                 -0.036226         -0.036226  -0.000009  \n",
       "Gender                               0.020695          0.020695   0.066019  \n",
       "self_employed                       -0.076510         -0.076510   0.094700  \n",
       "family_history                      -0.144196         -0.144196   0.011632  \n",
       "treatment                           -0.338003         -0.338003   0.062590  \n",
       "remote_work                         -0.037966         -0.037966   0.095119  \n",
       "tech_company                         0.032920          0.032920   0.033830  \n",
       "benefits                             0.081203          0.081203  -0.093878  \n",
       "care_options                        -0.010231         -0.010231   0.013526  \n",
       "wellness_program                     0.035645          0.035645  -0.008681  \n",
       "seek_help                            0.049323          0.049323  -0.056226  \n",
       "anonymity                            0.068470          0.068470  -0.188091  \n",
       "mental_health_consequence           -0.037339         -0.037339  -0.148967  \n",
       "phys_health_consequence             -0.001125         -0.001125  -0.048549  \n",
       "coworkers                            0.032200          0.032200  -0.031510  \n",
       "supervisor                          -0.003922         -0.003922  -0.018454  \n",
       "mental_health_interview              0.011214          0.011214   0.062184  \n",
       "phys_health_interview               -0.010954         -0.010954   0.025482  \n",
       "mental_vs_physical                   0.046640          0.046640  -0.157096  \n",
       "obs_consequence                     -0.101880         -0.101880   0.054330  \n",
       "work_interfere_num                   1.000000          1.000000  -0.011030  \n",
       "no_employees_num                     1.000000          1.000000  -0.011030  \n",
       "leave_num                           -0.011030         -0.011030   1.000000  \n",
       "\n",
       "[23 rows x 23 columns]"
      ]
     },
     "execution_count": 62,
     "metadata": {},
     "output_type": "execute_result"
    }
   ],
   "source": [
    "features.corr()"
   ]
  },
  {
   "cell_type": "code",
   "execution_count": 63,
   "metadata": {},
   "outputs": [
    {
     "data": {
      "image/png": "[encoded data removed]",
      "text/plain": [
       "<Figure size 576x396 with 2 Axes>"
      ]
     },
     "metadata": {},
     "output_type": "display_data"
    }
   ],
   "source": [
    "# Yellowbrick\n",
    "from yellowbrick.features import Rank2D\n",
    "\n",
    "# Definir o modelo\n",
    "correlacao = Rank2D( algoritmo='pearson' )\n",
    "\n",
    "# Filtrar função\n",
    "correlacao.fit( x, Y )\n",
    "correlacao.transform( x )\n",
    "correlacao.show();\n"
   ]
  },
  {
   "cell_type": "code",
   "execution_count": 64,
   "metadata": {},
   "outputs": [],
   "source": [
    "from sklearn.model_selection import train_test_split"
   ]
  },
  {
   "cell_type": "code",
   "execution_count": 65,
   "metadata": {},
   "outputs": [],
   "source": [
    "x_train, x_test, Y_train, Y_test = train_test_split(x,Y, test_size=0.2, random_state=8)"
   ]
  },
  {
   "cell_type": "code",
   "execution_count": 66,
   "metadata": {},
   "outputs": [
    {
     "name": "stdout",
     "output_type": "stream",
     "text": [
      "Train data:1007 1007\n",
      "Test data:252 252\n"
     ]
    }
   ],
   "source": [
    "print(f'Train data:{x_train.shape[0]} {Y_train.shape[0]}')\n",
    "print(f'Test data:{x_test.shape[0]} {Y_test.shape[0]}')"
   ]
  },
  {
   "cell_type": "code",
   "execution_count": 67,
   "metadata": {},
   "outputs": [],
   "source": [
    "# Feature more relevant\n",
    "from sklearn.feature_selection import mutual_info_regression\n",
    "from sklearn.feature_selection import SelectKBest\n",
    "\n",
    "def feature_selection(x_train, Y_train):\n",
    "    # k=all all features from the model\n",
    "    selection = SelectKBest( score_func=mutual_info_regression, k='all' )\n",
    "    # fit learning\n",
    "    selection.fit( x_train, Y_train )\n",
    "    \n",
    "    return selection\n",
    "\n",
    "# Call function\n",
    "scores = feature_selection(x_train, Y_train)\n",
    "    "
   ]
  },
  {
   "cell_type": "code",
   "execution_count": 68,
   "metadata": {},
   "outputs": [
    {
     "name": "stdout",
     "output_type": "stream",
     "text": [
      "Age, 0.0\n",
      "Gender, 0.02654209188871537\n",
      "self_employed, 0.011640242023467362\n",
      "family_history, 0.07558564882958319\n",
      "remote_work, 0.029255298904650395\n",
      "tech_company, 0.0\n",
      "benefits, 0.033009384708641676\n",
      "care_options, 0.03018859251194783\n",
      "wellness_program, 0.0\n",
      "seek_help, 0.0\n",
      "anonymity, 0.0035948629625384143\n",
      "mental_health_consequence, 0.0\n",
      "phys_health_consequence, 0.0\n",
      "coworkers, 0.01979203152867015\n",
      "supervisor, 0.008007035091877945\n",
      "mental_health_interview, 0.0\n",
      "phys_health_interview, 0.008995586688966384\n",
      "mental_vs_physical, 0.010304632074145559\n",
      "obs_consequence, 0.02226851387463924\n",
      "work_interfere_num, 0.28537985119868203\n",
      "no_employees_num, 0.31202283566181865\n",
      "leave_num, 0.0\n"
     ]
    }
   ],
   "source": [
    "for position, score in enumerate(scores.scores_):\n",
    "    \n",
    "    print( f'{x_train.columns[position]}, {score}')"
   ]
  },
  {
   "cell_type": "code",
   "execution_count": 69,
   "metadata": {},
   "outputs": [
    {
     "name": "stdout",
     "output_type": "stream",
     "text": [
      "Gender, 0.02654209188871537\n",
      "self_employed, 0.011640242023467362\n",
      "family_history, 0.07558564882958319\n",
      "remote_work, 0.029255298904650395\n",
      "benefits, 0.033009384708641676\n",
      "care_options, 0.03018859251194783\n",
      "anonymity, 0.0035948629625384143\n",
      "coworkers, 0.01979203152867015\n",
      "supervisor, 0.008007035091877945\n",
      "phys_health_interview, 0.008995586688966384\n",
      "mental_vs_physical, 0.010304632074145559\n",
      "obs_consequence, 0.02226851387463924\n",
      "work_interfere_num, 0.28537985119868203\n",
      "no_employees_num, 0.31202283566181865\n"
     ]
    }
   ],
   "source": [
    "## Score > 0\n",
    "features_select={}\n",
    "for position, score in enumerate(scores.scores_):\n",
    "    if score > 0:\n",
    "        print( f'{x_train.columns[position]}, {score}')\n",
    "        features_select[x_train.columns[position]] = score"
   ]
  },
  {
   "cell_type": "code",
   "execution_count": 70,
   "metadata": {},
   "outputs": [
    {
     "data": {
      "text/plain": [
       "14"
      ]
     },
     "execution_count": 70,
     "metadata": {},
     "output_type": "execute_result"
    }
   ],
   "source": [
    "# 14 - Feature select\n",
    "len(features_select)"
   ]
  },
  {
   "cell_type": "code",
   "execution_count": 71,
   "metadata": {},
   "outputs": [
    {
     "name": "stdout",
     "output_type": "stream",
     "text": [
      "Gender\n",
      "self_employed\n",
      "family_history\n",
      "remote_work\n",
      "benefits\n",
      "care_options\n",
      "anonymity\n",
      "coworkers\n",
      "supervisor\n",
      "phys_health_interview\n",
      "mental_vs_physical\n",
      "obs_consequence\n",
      "work_interfere_num\n",
      "no_employees_num\n"
     ]
    }
   ],
   "source": [
    "# Features that have influence in the model\n",
    "for i in features_select:\n",
    "    print(i)"
   ]
  },
  {
   "cell_type": "markdown",
   "metadata": {},
   "source": [
    "#### Refatoring Y x"
   ]
  },
  {
   "cell_type": "code",
   "execution_count": 72,
   "metadata": {},
   "outputs": [],
   "source": [
    "Y = df['treatment']\n",
    "\n",
    "#### 14 features > 0 \n",
    "#x = features[['Gender','family_history','remote_work','tech_company','benefits','care_options','wellness_program','mental_health_consequence','phys_health_consequence','supervisor','mental_health_interview','obs_consequence','work_interfere_num','no_employees_num']]\n",
    "##### Z-score 16 features > 0 \n",
    "#x = features[['Gender','family_history','tech_company','benefits','care_options','wellness_program','mental_health_consequence','supervisor','phys_health_interview','mental_vs_physical','obs_consequence','work_interfere_num','no_employees_num','leave_num']]\n",
    "x = features.drop(['treatment'],axis=1)"
   ]
  },
  {
   "cell_type": "code",
   "execution_count": 73,
   "metadata": {},
   "outputs": [],
   "source": [
    "#### ReSpliting the data training and test\n",
    "x_train, x_test, Y_train, Y_test = train_test_split(x,Y, test_size=0.2, random_state=9)"
   ]
  },
  {
   "cell_type": "code",
   "execution_count": 74,
   "metadata": {},
   "outputs": [
    {
     "name": "stdout",
     "output_type": "stream",
     "text": [
      "Train data:1007 1007\n",
      "Test data:252 252\n"
     ]
    }
   ],
   "source": [
    "print(f'Train data:{x_train.shape[0]} {Y_train.shape[0]}')\n",
    "print(f'Test data:{x_test.shape[0]} {Y_test.shape[0]}')"
   ]
  },
  {
   "cell_type": "markdown",
   "metadata": {},
   "source": [
    "## 6 Building the Model\n",
    "<p>Random Forest Regresson</p>"
   ]
  },
  {
   "cell_type": "markdown",
   "metadata": {},
   "source": [
    "#### RandomForestClassifier"
   ]
  },
  {
   "cell_type": "code",
   "execution_count": 75,
   "metadata": {},
   "outputs": [],
   "source": [
    "from sklearn.ensemble import RandomForestClassifier"
   ]
  },
  {
   "cell_type": "code",
   "execution_count": 76,
   "metadata": {},
   "outputs": [],
   "source": [
    "from sklearn.metrics import classification_report, confusion_matrix, accuracy_score"
   ]
  },
  {
   "cell_type": "code",
   "execution_count": 77,
   "metadata": {},
   "outputs": [],
   "source": [
    "model = RandomForestClassifier()"
   ]
  },
  {
   "cell_type": "code",
   "execution_count": 78,
   "metadata": {},
   "outputs": [
    {
     "data": {
      "text/plain": [
       "RandomForestClassifier()"
      ]
     },
     "execution_count": 78,
     "metadata": {},
     "output_type": "execute_result"
    }
   ],
   "source": [
    "model.fit(x_train, Y_train)"
   ]
  },
  {
   "cell_type": "code",
   "execution_count": 79,
   "metadata": {},
   "outputs": [],
   "source": [
    "predictions = model.predict(x_test)"
   ]
  },
  {
   "cell_type": "code",
   "execution_count": 80,
   "metadata": {},
   "outputs": [
    {
     "data": {
      "text/plain": [
       "0.8174603174603174"
      ]
     },
     "execution_count": 80,
     "metadata": {},
     "output_type": "execute_result"
    }
   ],
   "source": [
    "accuracy_score(predictions, Y_test)"
   ]
  },
  {
   "cell_type": "code",
   "execution_count": 81,
   "metadata": {},
   "outputs": [
    {
     "data": {
      "text/plain": [
       "array([[ 93,  12],\n",
       "       [ 34, 113]], dtype=int64)"
      ]
     },
     "execution_count": 81,
     "metadata": {},
     "output_type": "execute_result"
    }
   ],
   "source": [
    "confusion_matrix(predictions, Y_test)"
   ]
  },
  {
   "cell_type": "code",
   "execution_count": 82,
   "metadata": {},
   "outputs": [
    {
     "name": "stdout",
     "output_type": "stream",
     "text": [
      "              precision    recall  f1-score   support\n",
      "\n",
      "           0       0.73      0.89      0.80       105\n",
      "           1       0.90      0.77      0.83       147\n",
      "\n",
      "    accuracy                           0.82       252\n",
      "   macro avg       0.82      0.83      0.82       252\n",
      "weighted avg       0.83      0.82      0.82       252\n",
      "\n"
     ]
    }
   ],
   "source": [
    "print(classification_report(predictions, Y_test))"
   ]
  },
  {
   "cell_type": "markdown",
   "metadata": {},
   "source": [
    "#### Decision Tree Classifier"
   ]
  },
  {
   "cell_type": "code",
   "execution_count": 83,
   "metadata": {},
   "outputs": [],
   "source": [
    "from sklearn.tree import DecisionTreeClassifier"
   ]
  },
  {
   "cell_type": "code",
   "execution_count": 84,
   "metadata": {},
   "outputs": [],
   "source": [
    "tree = DecisionTreeClassifier()"
   ]
  },
  {
   "cell_type": "code",
   "execution_count": 85,
   "metadata": {},
   "outputs": [
    {
     "data": {
      "text/plain": [
       "DecisionTreeClassifier()"
      ]
     },
     "execution_count": 85,
     "metadata": {},
     "output_type": "execute_result"
    }
   ],
   "source": [
    "tree.fit(x_train,Y_train)"
   ]
  },
  {
   "cell_type": "code",
   "execution_count": 86,
   "metadata": {},
   "outputs": [],
   "source": [
    "predictions_t = tree.predict(x_test)"
   ]
  },
  {
   "cell_type": "code",
   "execution_count": 87,
   "metadata": {},
   "outputs": [
    {
     "data": {
      "text/plain": [
       "0.7658730158730159"
      ]
     },
     "execution_count": 87,
     "metadata": {},
     "output_type": "execute_result"
    }
   ],
   "source": [
    "accuracy_score(predictions_t, Y_test)"
   ]
  },
  {
   "cell_type": "code",
   "execution_count": 88,
   "metadata": {},
   "outputs": [
    {
     "data": {
      "text/plain": [
       "array([[98, 30],\n",
       "       [29, 95]], dtype=int64)"
      ]
     },
     "execution_count": 88,
     "metadata": {},
     "output_type": "execute_result"
    }
   ],
   "source": [
    "confusion_matrix(predictions_t, Y_test)"
   ]
  },
  {
   "cell_type": "code",
   "execution_count": 89,
   "metadata": {},
   "outputs": [
    {
     "name": "stdout",
     "output_type": "stream",
     "text": [
      "              precision    recall  f1-score   support\n",
      "\n",
      "           0       0.77      0.77      0.77       128\n",
      "           1       0.76      0.77      0.76       124\n",
      "\n",
      "    accuracy                           0.77       252\n",
      "   macro avg       0.77      0.77      0.77       252\n",
      "weighted avg       0.77      0.77      0.77       252\n",
      "\n"
     ]
    }
   ],
   "source": [
    "print(classification_report(predictions_t, Y_test))"
   ]
  },
  {
   "cell_type": "markdown",
   "metadata": {},
   "source": [
    "#### Teste manual do modelo"
   ]
  },
  {
   "cell_type": "code",
   "execution_count": 90,
   "metadata": {},
   "outputs": [
    {
     "data": {
      "text/html": [
       "<div>\n",
       "<style scoped>\n",
       "    .dataframe tbody tr th:only-of-type {\n",
       "        vertical-align: middle;\n",
       "    }\n",
       "\n",
       "    .dataframe tbody tr th {\n",
       "        vertical-align: top;\n",
       "    }\n",
       "\n",
       "    .dataframe thead th {\n",
       "        text-align: right;\n",
       "    }\n",
       "</style>\n",
       "<table border=\"1\" class=\"dataframe\">\n",
       "  <thead>\n",
       "    <tr style=\"text-align: right;\">\n",
       "      <th></th>\n",
       "      <th>Age</th>\n",
       "      <th>Gender</th>\n",
       "      <th>self_employed</th>\n",
       "      <th>family_history</th>\n",
       "      <th>remote_work</th>\n",
       "      <th>tech_company</th>\n",
       "      <th>benefits</th>\n",
       "      <th>care_options</th>\n",
       "      <th>wellness_program</th>\n",
       "      <th>seek_help</th>\n",
       "      <th>...</th>\n",
       "      <th>phys_health_consequence</th>\n",
       "      <th>coworkers</th>\n",
       "      <th>supervisor</th>\n",
       "      <th>mental_health_interview</th>\n",
       "      <th>phys_health_interview</th>\n",
       "      <th>mental_vs_physical</th>\n",
       "      <th>obs_consequence</th>\n",
       "      <th>work_interfere_num</th>\n",
       "      <th>no_employees_num</th>\n",
       "      <th>leave_num</th>\n",
       "    </tr>\n",
       "  </thead>\n",
       "  <tbody>\n",
       "    <tr>\n",
       "      <th>1232</th>\n",
       "      <td>25</td>\n",
       "      <td>1</td>\n",
       "      <td>0</td>\n",
       "      <td>1</td>\n",
       "      <td>0</td>\n",
       "      <td>0</td>\n",
       "      <td>1</td>\n",
       "      <td>1</td>\n",
       "      <td>1</td>\n",
       "      <td>1</td>\n",
       "      <td>...</td>\n",
       "      <td>0</td>\n",
       "      <td>1</td>\n",
       "      <td>1</td>\n",
       "      <td>1</td>\n",
       "      <td>1</td>\n",
       "      <td>1</td>\n",
       "      <td>0</td>\n",
       "      <td>3</td>\n",
       "      <td>3</td>\n",
       "      <td>4</td>\n",
       "    </tr>\n",
       "  </tbody>\n",
       "</table>\n",
       "<p>1 rows × 22 columns</p>\n",
       "</div>"
      ],
      "text/plain": [
       "      Age  Gender  self_employed  family_history  remote_work  tech_company  \\\n",
       "1232   25       1              0               1            0             0   \n",
       "\n",
       "      benefits  care_options  wellness_program  seek_help  ...  \\\n",
       "1232         1             1                 1          1  ...   \n",
       "\n",
       "      phys_health_consequence  coworkers  supervisor  mental_health_interview  \\\n",
       "1232                        0          1           1                        1   \n",
       "\n",
       "      phys_health_interview  mental_vs_physical  obs_consequence  \\\n",
       "1232                      1                   1                0   \n",
       "\n",
       "      work_interfere_num  no_employees_num  leave_num  \n",
       "1232                   3                 3          4  \n",
       "\n",
       "[1 rows x 22 columns]"
      ]
     },
     "execution_count": 90,
     "metadata": {},
     "output_type": "execute_result"
    }
   ],
   "source": [
    "x_test[5:6]"
   ]
  },
  {
   "cell_type": "code",
   "execution_count": 91,
   "metadata": {},
   "outputs": [
    {
     "data": {
      "text/plain": [
       "1232    1\n",
       "Name: treatment, dtype: int64"
      ]
     },
     "execution_count": 91,
     "metadata": {},
     "output_type": "execute_result"
    }
   ],
   "source": [
    "Y_test[5:6]"
   ]
  },
  {
   "cell_type": "code",
   "execution_count": 92,
   "metadata": {},
   "outputs": [
    {
     "data": {
      "text/plain": [
       "array([1], dtype=int64)"
      ]
     },
     "execution_count": 92,
     "metadata": {},
     "output_type": "execute_result"
    }
   ],
   "source": [
    "tree.predict(x_test[5:6])"
   ]
  },
  {
   "cell_type": "markdown",
   "metadata": {},
   "source": [
    "### Exportando o modelo RandomForestClassifier"
   ]
  },
  {
   "cell_type": "code",
   "execution_count": 93,
   "metadata": {},
   "outputs": [
    {
     "data": {
      "text/plain": [
       "['RandomForestClassifier_v1.pkl']"
      ]
     },
     "execution_count": 93,
     "metadata": {},
     "output_type": "execute_result"
    }
   ],
   "source": [
    "import joblib\n",
    "\n",
    "joblib.dump( model, 'RandomForestClassifier_v1.pkl')"
   ]
  },
  {
   "cell_type": "code",
   "execution_count": 95,
   "metadata": {},
   "outputs": [],
   "source": [
    "#### Lendo o modelo\n",
    "my_model = joblib.load('RandomForestClassifier_v1.pkl')"
   ]
  },
  {
   "cell_type": "code",
   "execution_count": 96,
   "metadata": {},
   "outputs": [
    {
     "data": {
      "text/html": [
       "<div>\n",
       "<style scoped>\n",
       "    .dataframe tbody tr th:only-of-type {\n",
       "        vertical-align: middle;\n",
       "    }\n",
       "\n",
       "    .dataframe tbody tr th {\n",
       "        vertical-align: top;\n",
       "    }\n",
       "\n",
       "    .dataframe thead th {\n",
       "        text-align: right;\n",
       "    }\n",
       "</style>\n",
       "<table border=\"1\" class=\"dataframe\">\n",
       "  <thead>\n",
       "    <tr style=\"text-align: right;\">\n",
       "      <th></th>\n",
       "      <th>Age</th>\n",
       "      <th>Gender</th>\n",
       "      <th>self_employed</th>\n",
       "      <th>family_history</th>\n",
       "      <th>remote_work</th>\n",
       "      <th>tech_company</th>\n",
       "      <th>benefits</th>\n",
       "      <th>care_options</th>\n",
       "      <th>wellness_program</th>\n",
       "      <th>seek_help</th>\n",
       "      <th>...</th>\n",
       "      <th>phys_health_consequence</th>\n",
       "      <th>coworkers</th>\n",
       "      <th>supervisor</th>\n",
       "      <th>mental_health_interview</th>\n",
       "      <th>phys_health_interview</th>\n",
       "      <th>mental_vs_physical</th>\n",
       "      <th>obs_consequence</th>\n",
       "      <th>work_interfere_num</th>\n",
       "      <th>no_employees_num</th>\n",
       "      <th>leave_num</th>\n",
       "    </tr>\n",
       "  </thead>\n",
       "  <tbody>\n",
       "    <tr>\n",
       "      <th>1131</th>\n",
       "      <td>32</td>\n",
       "      <td>1</td>\n",
       "      <td>0</td>\n",
       "      <td>0</td>\n",
       "      <td>0</td>\n",
       "      <td>1</td>\n",
       "      <td>0</td>\n",
       "      <td>0</td>\n",
       "      <td>0</td>\n",
       "      <td>0</td>\n",
       "      <td>...</td>\n",
       "      <td>0</td>\n",
       "      <td>0</td>\n",
       "      <td>0</td>\n",
       "      <td>0</td>\n",
       "      <td>0</td>\n",
       "      <td>2</td>\n",
       "      <td>1</td>\n",
       "      <td>4</td>\n",
       "      <td>4</td>\n",
       "      <td>1</td>\n",
       "    </tr>\n",
       "  </tbody>\n",
       "</table>\n",
       "<p>1 rows × 22 columns</p>\n",
       "</div>"
      ],
      "text/plain": [
       "      Age  Gender  self_employed  family_history  remote_work  tech_company  \\\n",
       "1131   32       1              0               0            0             1   \n",
       "\n",
       "      benefits  care_options  wellness_program  seek_help  ...  \\\n",
       "1131         0             0                 0          0  ...   \n",
       "\n",
       "      phys_health_consequence  coworkers  supervisor  mental_health_interview  \\\n",
       "1131                        0          0           0                        0   \n",
       "\n",
       "      phys_health_interview  mental_vs_physical  obs_consequence  \\\n",
       "1131                      0                   2                1   \n",
       "\n",
       "      work_interfere_num  no_employees_num  leave_num  \n",
       "1131                   4                 4          1  \n",
       "\n",
       "[1 rows x 22 columns]"
      ]
     },
     "execution_count": 96,
     "metadata": {},
     "output_type": "execute_result"
    }
   ],
   "source": [
    "x_test.head(1)"
   ]
  },
  {
   "cell_type": "code",
   "execution_count": 98,
   "metadata": {},
   "outputs": [
    {
     "data": {
      "text/plain": [
       "1131    0\n",
       "Name: treatment, dtype: int64"
      ]
     },
     "execution_count": 98,
     "metadata": {},
     "output_type": "execute_result"
    }
   ],
   "source": [
    "Y_test.head(1)"
   ]
  },
  {
   "cell_type": "code",
   "execution_count": 99,
   "metadata": {},
   "outputs": [
    {
     "data": {
      "text/plain": [
       "array([0], dtype=int64)"
      ]
     },
     "execution_count": 99,
     "metadata": {},
     "output_type": "execute_result"
    }
   ],
   "source": [
    "my_model.predict(x_test.head(1))"
   ]
  },
  {
   "cell_type": "code",
   "execution_count": 105,
   "metadata": {},
   "outputs": [
    {
     "data": {
      "text/plain": [
       "Index(['Age', 'Gender', 'self_employed', 'family_history', 'remote_work',\n",
       "       'tech_company', 'benefits', 'care_options', 'wellness_program',\n",
       "       'seek_help', 'anonymity', 'mental_health_consequence',\n",
       "       'phys_health_consequence', 'coworkers', 'supervisor',\n",
       "       'mental_health_interview', 'phys_health_interview',\n",
       "       'mental_vs_physical', 'obs_consequence', 'work_interfere_num',\n",
       "       'no_employees_num', 'leave_num'],\n",
       "      dtype='object')"
      ]
     },
     "execution_count": 105,
     "metadata": {},
     "output_type": "execute_result"
    }
   ],
   "source": [
    "x_test.columns"
   ]
  },
  {
   "cell_type": "code",
   "execution_count": 111,
   "metadata": {},
   "outputs": [],
   "source": [
    "\"\"\"\n",
    "Age', 'Gender', 'self_employed', 'family_history', 'remote_work',\n",
    "       'tech_company', 'benefits', 'care_options', 'wellness_program',\n",
    "       'seek_help', 'anonymity', 'mental_health_consequence',\n",
    "       'phys_health_consequence', 'coworkers', 'supervisor',\n",
    "       'mental_health_interview', 'phys_health_interview',\n",
    "       'mental_vs_physical', 'obs_consequence', 'work_interfere_num',\n",
    "       'no_employees_num', 'leave_num'\n",
    "\"\"\"\n",
    "meus_dados = [[31,0,0,1,0,\\\n",
    "               0,0,0,0,\\\n",
    "              1,0,0,\\\n",
    "              0,0,0,\\\n",
    "              1,0,\\\n",
    "              0,0,0\\\n",
    "               ,4,0]]"
   ]
  },
  {
   "cell_type": "code",
   "execution_count": 112,
   "metadata": {},
   "outputs": [
    {
     "data": {
      "text/plain": [
       "array([0], dtype=int64)"
      ]
     },
     "execution_count": 112,
     "metadata": {},
     "output_type": "execute_result"
    }
   ],
   "source": [
    "my_model.predict(meus_dados)"
   ]
  },
  {
   "cell_type": "code",
   "execution_count": null,
   "metadata": {},
   "outputs": [],
   "source": []
  },
  {
   "cell_type": "code",
   "execution_count": null,
   "metadata": {},
   "outputs": [],
   "source": []
  }
 ],
 "metadata": {
  "kernelspec": {
   "display_name": "Python 3 (ipykernel)",
   "language": "python",
   "name": "python3"
  },
  "language_info": {
   "codemirror_mode": {
    "name": "ipython",
    "version": 3
   },
   "file_extension": ".py",
   "mimetype": "text/x-python",
   "name": "python",
   "nbconvert_exporter": "python",
   "pygments_lexer": "ipython3",
   "version": "3.9.12"
  }
 },
 "nbformat": 4,
 "nbformat_minor": 2
}
